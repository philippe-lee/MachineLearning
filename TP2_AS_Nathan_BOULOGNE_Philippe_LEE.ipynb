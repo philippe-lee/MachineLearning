{
 "cells": [
  {
   "cell_type": "markdown",
   "metadata": {},
   "source": [
    "# Nathan BOULOGNE et Philippe LEE"
   ]
  },
  {
   "cell_type": "code",
   "execution_count": 203,
   "metadata": {},
   "outputs": [],
   "source": [
    "import numpy as np\n",
    "import pandas as pd\n",
    "import warnings\n",
    "import matplotlib.pyplot as plt\n",
    "np.set_printoptions(threshold=10000,suppress=True)\n",
    "warnings.filterwarnings('ignore')"
   ]
  },
  {
   "cell_type": "markdown",
   "metadata": {},
   "source": [
    "# Partie 1"
   ]
  },
  {
   "cell_type": "markdown",
   "metadata": {},
   "source": [
    "## Chargement des données et préparation"
   ]
  },
  {
   "cell_type": "code",
   "execution_count": 204,
   "metadata": {},
   "outputs": [],
   "source": [
    "credit=pd.read_csv(\"./credit_scoring.csv\",sep=\";\",header=0)"
   ]
  },
  {
   "cell_type": "code",
   "execution_count": 205,
   "metadata": {},
   "outputs": [
    {
     "data": {
      "text/plain": [
       "Index(['Seniority', 'Home', 'Time', 'Age', 'Marital', 'Records', 'Job',\n",
       "       'Expenses', 'Income', 'Assets', 'Debt', 'Amount', 'Price', 'Status'],\n",
       "      dtype='object')"
      ]
     },
     "execution_count": 205,
     "metadata": {},
     "output_type": "execute_result"
    }
   ],
   "source": [
    "credit.columns"
   ]
  },
  {
   "cell_type": "code",
   "execution_count": 206,
   "metadata": {},
   "outputs": [
    {
     "data": {
      "text/html": [
       "<div>\n",
       "<style scoped>\n",
       "    .dataframe tbody tr th:only-of-type {\n",
       "        vertical-align: middle;\n",
       "    }\n",
       "\n",
       "    .dataframe tbody tr th {\n",
       "        vertical-align: top;\n",
       "    }\n",
       "\n",
       "    .dataframe thead th {\n",
       "        text-align: right;\n",
       "    }\n",
       "</style>\n",
       "<table border=\"1\" class=\"dataframe\">\n",
       "  <thead>\n",
       "    <tr style=\"text-align: right;\">\n",
       "      <th></th>\n",
       "      <th>Seniority</th>\n",
       "      <th>Home</th>\n",
       "      <th>Time</th>\n",
       "      <th>Age</th>\n",
       "      <th>Marital</th>\n",
       "      <th>Records</th>\n",
       "      <th>Job</th>\n",
       "      <th>Expenses</th>\n",
       "      <th>Income</th>\n",
       "      <th>Assets</th>\n",
       "      <th>Debt</th>\n",
       "      <th>Amount</th>\n",
       "      <th>Price</th>\n",
       "      <th>Status</th>\n",
       "    </tr>\n",
       "  </thead>\n",
       "  <tbody>\n",
       "    <tr>\n",
       "      <th>0</th>\n",
       "      <td>9.0</td>\n",
       "      <td>1.0</td>\n",
       "      <td>60.0</td>\n",
       "      <td>30.0</td>\n",
       "      <td>0.0</td>\n",
       "      <td>1.0</td>\n",
       "      <td>1.0</td>\n",
       "      <td>73.0</td>\n",
       "      <td>129.0</td>\n",
       "      <td>0.0</td>\n",
       "      <td>0.0</td>\n",
       "      <td>800.0</td>\n",
       "      <td>846.0</td>\n",
       "      <td>1</td>\n",
       "    </tr>\n",
       "    <tr>\n",
       "      <th>1</th>\n",
       "      <td>17.0</td>\n",
       "      <td>1.0</td>\n",
       "      <td>60.0</td>\n",
       "      <td>58.0</td>\n",
       "      <td>1.0</td>\n",
       "      <td>1.0</td>\n",
       "      <td>0.0</td>\n",
       "      <td>48.0</td>\n",
       "      <td>131.0</td>\n",
       "      <td>0.0</td>\n",
       "      <td>0.0</td>\n",
       "      <td>1000.0</td>\n",
       "      <td>1658.0</td>\n",
       "      <td>1</td>\n",
       "    </tr>\n",
       "    <tr>\n",
       "      <th>2</th>\n",
       "      <td>10.0</td>\n",
       "      <td>0.0</td>\n",
       "      <td>36.0</td>\n",
       "      <td>46.0</td>\n",
       "      <td>0.0</td>\n",
       "      <td>2.0</td>\n",
       "      <td>1.0</td>\n",
       "      <td>90.0</td>\n",
       "      <td>200.0</td>\n",
       "      <td>3000.0</td>\n",
       "      <td>0.0</td>\n",
       "      <td>2000.0</td>\n",
       "      <td>2985.0</td>\n",
       "      <td>0</td>\n",
       "    </tr>\n",
       "    <tr>\n",
       "      <th>3</th>\n",
       "      <td>0.0</td>\n",
       "      <td>1.0</td>\n",
       "      <td>60.0</td>\n",
       "      <td>24.0</td>\n",
       "      <td>1.0</td>\n",
       "      <td>1.0</td>\n",
       "      <td>0.0</td>\n",
       "      <td>63.0</td>\n",
       "      <td>182.0</td>\n",
       "      <td>2500.0</td>\n",
       "      <td>0.0</td>\n",
       "      <td>900.0</td>\n",
       "      <td>1325.0</td>\n",
       "      <td>1</td>\n",
       "    </tr>\n",
       "    <tr>\n",
       "      <th>4</th>\n",
       "      <td>0.0</td>\n",
       "      <td>1.0</td>\n",
       "      <td>36.0</td>\n",
       "      <td>26.0</td>\n",
       "      <td>1.0</td>\n",
       "      <td>1.0</td>\n",
       "      <td>0.0</td>\n",
       "      <td>46.0</td>\n",
       "      <td>107.0</td>\n",
       "      <td>0.0</td>\n",
       "      <td>0.0</td>\n",
       "      <td>310.0</td>\n",
       "      <td>910.0</td>\n",
       "      <td>1</td>\n",
       "    </tr>\n",
       "  </tbody>\n",
       "</table>\n",
       "</div>"
      ],
      "text/plain": [
       "   Seniority  Home  Time   Age  Marital  Records  Job  Expenses  Income  \\\n",
       "0        9.0   1.0  60.0  30.0      0.0      1.0  1.0      73.0   129.0   \n",
       "1       17.0   1.0  60.0  58.0      1.0      1.0  0.0      48.0   131.0   \n",
       "2       10.0   0.0  36.0  46.0      0.0      2.0  1.0      90.0   200.0   \n",
       "3        0.0   1.0  60.0  24.0      1.0      1.0  0.0      63.0   182.0   \n",
       "4        0.0   1.0  36.0  26.0      1.0      1.0  0.0      46.0   107.0   \n",
       "\n",
       "   Assets  Debt  Amount   Price  Status  \n",
       "0     0.0   0.0   800.0   846.0       1  \n",
       "1     0.0   0.0  1000.0  1658.0       1  \n",
       "2  3000.0   0.0  2000.0  2985.0       0  \n",
       "3  2500.0   0.0   900.0  1325.0       1  \n",
       "4     0.0   0.0   310.0   910.0       1  "
      ]
     },
     "execution_count": 206,
     "metadata": {},
     "output_type": "execute_result"
    }
   ],
   "source": [
    "credit.head(5)"
   ]
  },
  {
   "cell_type": "code",
   "execution_count": 207,
   "metadata": {},
   "outputs": [
    {
     "data": {
      "text/plain": [
       "(4375, 14)"
      ]
     },
     "execution_count": 207,
     "metadata": {},
     "output_type": "execute_result"
    }
   ],
   "source": [
    "credit.shape"
   ]
  },
  {
   "cell_type": "code",
   "execution_count": 208,
   "metadata": {},
   "outputs": [],
   "source": [
    "X=credit.iloc[:,:13].values\n",
    "Y=credit.iloc[:,13].values\n",
    "# .values va transformer en numpy array"
   ]
  },
  {
   "cell_type": "code",
   "execution_count": 209,
   "metadata": {},
   "outputs": [
    {
     "name": "stdout",
     "output_type": "stream",
     "text": [
      "Mauvais payeurs : 0.28 %. Bon payeur : 0.72 %\n"
     ]
    }
   ],
   "source": [
    "mp=np.sum(Y==0)/len(Y)\n",
    "bp=np.sum(Y==1)/len(Y)\n",
    "\n",
    "print(\"Mauvais payeurs : {0:.2f} %. Bon payeur : {1:.2f} %\".format(mp,bp))"
   ]
  },
  {
   "cell_type": "code",
   "execution_count": 210,
   "metadata": {},
   "outputs": [],
   "source": [
    "from sklearn.model_selection import train_test_split"
   ]
  },
  {
   "cell_type": "code",
   "execution_count": 211,
   "metadata": {},
   "outputs": [],
   "source": [
    "Xtrain,Xtest,Ytrain,Ytest=train_test_split(X,Y,test_size=0.5,random_state=1)"
   ]
  },
  {
   "cell_type": "markdown",
   "metadata": {},
   "source": [
    "## Lancement des classifieurs"
   ]
  },
  {
   "cell_type": "markdown",
   "metadata": {},
   "source": [
    "Dans ce problème, on utilise la précision car pour une banque c'est moins grave de ne pas donner crédit à une personne qui peut le rembourser donc d'avoir un FN que de prêter de l'argent à une personne qui ne peut finalement pas rembourser, FP. Donc il vaut mieux maximiser la précision c'est-à-dire avoir le moins de faux positif."
   ]
  },
  {
   "cell_type": "code",
   "execution_count": 212,
   "metadata": {},
   "outputs": [],
   "source": [
    "from sklearn.tree import DecisionTreeClassifier\n",
    "from sklearn.neighbors import KNeighborsClassifier\n",
    "from sklearn.metrics import confusion_matrix, accuracy_score, precision_score"
   ]
  },
  {
   "cell_type": "code",
   "execution_count": 213,
   "metadata": {},
   "outputs": [],
   "source": [
    "def classifieurs(Xtrain,Xtest,Ytrain,Ytest):\n",
    "    DT=DecisionTreeClassifier(criterion='gini', random_state=1)   #criterion -> gini : arbre de type CART\n",
    "    DT.fit(Xtrain,Ytrain)\n",
    "    YDT=DT.predict(Xtest)\n",
    "\n",
    "    KNN=KNeighborsClassifier(n_neighbors=5) #KNN\n",
    "    KNN.fit(Xtrain,Ytrain)\n",
    "    YKNN=KNN.predict(Xtest)\n",
    "\n",
    "    print(\"Arbre de décision: Accuracy={0:.2f}%.\".format(accuracy_score(Ytest,YDT)*100))\n",
    "    print(confusion_matrix(Ytest,YDT))\n",
    "    print(\"Precision : {0:.2f}%\".format(precision_score(Ytest,YDT)*100))\n",
    "    print()\n",
    "    print(\"KNN: Accuracy={0:.2f}%.\".format(accuracy_score(Ytest,YKNN)*100))\n",
    "    print(confusion_matrix(Ytest,YKNN))\n",
    "    print(\"Precision : {0:.2f}%\".format(precision_score(Ytest,YKNN)*100))\n",
    "    print()"
   ]
  },
  {
   "cell_type": "code",
   "execution_count": 214,
   "metadata": {},
   "outputs": [
    {
     "name": "stdout",
     "output_type": "stream",
     "text": [
      "Arbre de décision: Accuracy=72.71%.\n",
      "[[ 325  279]\n",
      " [ 318 1266]]\n",
      "Precision : 81.94%\n",
      "\n",
      "KNN: Accuracy=72.49%.\n",
      "[[ 189  415]\n",
      " [ 187 1397]]\n",
      "Precision : 77.10%\n",
      "\n"
     ]
    }
   ],
   "source": [
    "classifieurs(Xtrain,Xtest,Ytrain,Ytest)"
   ]
  },
  {
   "cell_type": "code",
   "execution_count": 13,
   "metadata": {},
   "outputs": [],
   "source": [
    "# rappel vs precision\n",
    "# on va choisir la precision : la banque veut minimiser les FP"
   ]
  },
  {
   "cell_type": "markdown",
   "metadata": {},
   "source": [
    "### Normalisation"
   ]
  },
  {
   "cell_type": "code",
   "execution_count": 14,
   "metadata": {},
   "outputs": [],
   "source": [
    "from sklearn.preprocessing import StandardScaler, MinMaxScaler"
   ]
  },
  {
   "cell_type": "code",
   "execution_count": 215,
   "metadata": {},
   "outputs": [],
   "source": [
    "#avec StandardScaler\n",
    "ss=StandardScaler()\n",
    "ss.fit(Xtrain)\n",
    "Xtrain_norm=ss.transform(Xtrain)\n",
    "Xtest_norm=ss.transform(Xtest)"
   ]
  },
  {
   "cell_type": "code",
   "execution_count": 216,
   "metadata": {},
   "outputs": [
    {
     "name": "stdout",
     "output_type": "stream",
     "text": [
      "Arbre de décision: Accuracy=72.71%.\n",
      "[[ 322  282]\n",
      " [ 315 1269]]\n",
      "Precision : 81.82%\n",
      "\n",
      "KNN: Accuracy=75.27%.\n",
      "[[ 286  318]\n",
      " [ 223 1361]]\n",
      "Precision : 81.06%\n",
      "\n"
     ]
    }
   ],
   "source": [
    "classifieurs(Xtrain_norm,Xtest_norm,Ytrain,Ytest)"
   ]
  },
  {
   "cell_type": "markdown",
   "metadata": {},
   "source": [
    "En normalisant nos données, on a des meilleurs résultats pour le KNN classifier, ce qui est normal car KNN fait des calculs sur des distances."
   ]
  },
  {
   "cell_type": "code",
   "execution_count": 217,
   "metadata": {},
   "outputs": [
    {
     "name": "stdout",
     "output_type": "stream",
     "text": [
      "Arbre de décision: Accuracy=72.85%.\n",
      "[[ 325  279]\n",
      " [ 315 1269]]\n",
      "Precision : 81.98%\n",
      "\n",
      "KNN: Accuracy=74.54%.\n",
      "[[ 283  321]\n",
      " [ 236 1348]]\n",
      "Precision : 80.77%\n",
      "\n"
     ]
    }
   ],
   "source": [
    "#avec MinMaxScaler\n",
    "mm=MinMaxScaler()\n",
    "mm.fit(Xtrain)\n",
    "Xtrain_normmm=mm.transform(Xtrain)\n",
    "Xtest_normmm=mm.transform(Xtest)\n",
    "classifieurs(Xtrain_normmm,Xtest_normmm,Ytrain,Ytest)"
   ]
  },
  {
   "cell_type": "markdown",
   "metadata": {},
   "source": [
    "Le random forest est meilleur (en terme de précision) avec MinMaxScaler qu'avec StandardScaler, mais le KNN est moins bon.\n",
    "Pour la suite, nous utiliserons le StandardScaler."
   ]
  },
  {
   "cell_type": "markdown",
   "metadata": {},
   "source": [
    "### Ajout des variables"
   ]
  },
  {
   "cell_type": "code",
   "execution_count": 218,
   "metadata": {},
   "outputs": [],
   "source": [
    "from sklearn.decomposition import PCA"
   ]
  },
  {
   "cell_type": "code",
   "execution_count": 219,
   "metadata": {},
   "outputs": [],
   "source": [
    "pca=PCA(n_components=3)\n",
    "pca.fit(Xtrain_norm)\n",
    "Xtrain_pca=np.concatenate((Xtrain_norm,pca.transform(Xtrain_norm)),axis=1)\n",
    "Xtest_pca=np.concatenate((Xtest_norm,pca.transform(Xtest_norm)),axis=1)"
   ]
  },
  {
   "cell_type": "code",
   "execution_count": 220,
   "metadata": {},
   "outputs": [
    {
     "name": "stdout",
     "output_type": "stream",
     "text": [
      "Arbre de décision: Accuracy=73.63%.\n",
      "[[ 351  253]\n",
      " [ 324 1260]]\n",
      "Precision : 83.28%\n",
      "\n",
      "KNN: Accuracy=75.64%.\n",
      "[[ 283  321]\n",
      " [ 212 1372]]\n",
      "Precision : 81.04%\n",
      "\n"
     ]
    }
   ],
   "source": [
    "classifieurs(Xtrain_pca,Xtest_pca,Ytrain,Ytest)"
   ]
  },
  {
   "cell_type": "markdown",
   "metadata": {},
   "source": [
    "En rajoutant aux données normalisées 3 composantes principales, on obtient des meilleurs résultats pour nos classifiers, notamment sur l'arbre de décision (83.28% de précision)."
   ]
  },
  {
   "cell_type": "code",
   "execution_count": 221,
   "metadata": {},
   "outputs": [],
   "source": [
    "from sklearn.ensemble import BaggingClassifier"
   ]
  },
  {
   "cell_type": "code",
   "execution_count": 225,
   "metadata": {},
   "outputs": [
    {
     "name": "stdout",
     "output_type": "stream",
     "text": [
      "Bagging : Accuracy = 78.66\n",
      "[[ 321  283]\n",
      " [ 184 1400]]\n",
      "Precision : 83.18%\n"
     ]
    }
   ],
   "source": [
    "BAG=BaggingClassifier(n_estimators=100,random_state=1) #BAG\n",
    "BAG.fit(Xtrain_pca,Ytrain)\n",
    "YBAG=BAG.predict(Xtest_pca)\n",
    "print(\"Bagging : Accuracy = {0:.2f}\".format(accuracy_score(Ytest,YBAG)*100))\n",
    "print(confusion_matrix(Ytest,YBAG))\n",
    "print(\"Precision : {0:.2f}%\".format(precision_score(Ytest,YBAG)*100))"
   ]
  },
  {
   "cell_type": "markdown",
   "metadata": {},
   "source": [
    "Le bagging est un peu moins bien que l'arbre de décision."
   ]
  },
  {
   "cell_type": "code",
   "execution_count": 26,
   "metadata": {},
   "outputs": [],
   "source": [
    "from sklearn.ensemble import RandomForestClassifier"
   ]
  },
  {
   "cell_type": "code",
   "execution_count": 226,
   "metadata": {},
   "outputs": [
    {
     "name": "stdout",
     "output_type": "stream",
     "text": [
      "Index(['Income', 'Seniority', 'pca2', 'pca3', 'Price', 'pca1', 'Amount', 'Age',\n",
      "       'Assets', 'Records', 'Expenses', 'Job', 'Time', 'Debt', 'Home',\n",
      "       'Marital'],\n",
      "      dtype='object')\n"
     ]
    },
    {
     "data": {
      "image/png": "[encoded data removed]",
      "text/plain": [
       "<Figure size 432x288 with 1 Axes>"
      ]
     },
     "metadata": {
      "needs_background": "light"
     },
     "output_type": "display_data"
    }
   ],
   "source": [
    "clf = RandomForestClassifier(n_estimators=100)\n",
    "clf.fit(Xtrain_pca, Ytrain)\n",
    "importances=clf.feature_importances_\n",
    "std = np.std([tree.feature_importances_ for tree in clf.estimators_],axis=0)\n",
    "sorted_idx = np.argsort(importances)[::-1]\n",
    "ind2=pd.Index(['pca1','pca2','pca3'])\n",
    "features = credit.columns[:-1].append(ind2)\n",
    "print(features[sorted_idx])\n",
    "padding = np.arange(Xtrain_pca.size/len(Xtrain_pca)) + 0.5\n",
    "plt.barh(padding, importances[sorted_idx],xerr=std[sorted_idx], align='center')\n",
    "plt.yticks(padding, features[sorted_idx])\n",
    "plt.xlabel(\"Relative Importance\")\n",
    "plt.title(\"Variable Importance\")\n",
    "plt.show()"
   ]
  },
  {
   "cell_type": "code",
   "execution_count": 227,
   "metadata": {},
   "outputs": [
    {
     "data": {
      "image/png": "[encoded data removed]",
      "text/plain": [
       "<Figure size 432x288 with 1 Axes>"
      ]
     },
     "metadata": {
      "needs_background": "light"
     },
     "output_type": "display_data"
    }
   ],
   "source": [
    "KNN=KNeighborsClassifier(n_neighbors=5)\n",
    "scores=np.zeros(Xtrain_pca.shape[1]+1)\n",
    "for f in np.arange(0, Xtrain_pca.shape[1]+1):\n",
    "    X1_f = Xtrain_pca[:,sorted_idx[:f+1]]\n",
    "    X2_f = Xtest_pca[:,sorted_idx[:f+1]]\n",
    "    KNN.fit(X1_f,Ytrain)\n",
    "    YKNN=KNN.predict(X2_f)\n",
    "    scores[f]=np.round(precision_score(Ytest,YKNN),3)\n",
    "plt.plot(scores)\n",
    "plt.xlabel(\"Nombre de Variables\")\n",
    "plt.ylabel(\"precision\")\n",
    "plt.title(\"Evolution de la precision en fonction des variables\")\n",
    "plt.show()"
   ]
  },
  {
   "cell_type": "markdown",
   "metadata": {},
   "source": [
    "On peut prendre 12 variables car c'est là que la precision atteint son max"
   ]
  },
  {
   "cell_type": "code",
   "execution_count": 228,
   "metadata": {},
   "outputs": [
    {
     "data": {
      "text/plain": [
       "Index(['Income', 'Seniority', 'pca2', 'pca3', 'Price', 'pca1', 'Amount', 'Age',\n",
       "       'Assets', 'Records', 'Expenses', 'Job'],\n",
       "      dtype='object')"
      ]
     },
     "execution_count": 228,
     "metadata": {},
     "output_type": "execute_result"
    }
   ],
   "source": [
    "features[sorted_idx[:12]]"
   ]
  },
  {
   "cell_type": "code",
   "execution_count": 229,
   "metadata": {},
   "outputs": [],
   "source": [
    "from sklearn.model_selection import GridSearchCV"
   ]
  },
  {
   "cell_type": "code",
   "execution_count": 230,
   "metadata": {},
   "outputs": [],
   "source": [
    "def eval_clf(clf, X_train, X_test, y_train, y_test):\n",
    "    clf.fit(X_train, y_train)\n",
    "    y_pred = clf.predict(X_test)\n",
    "    acc = 100 * accuracy_score(y_test, y_pred)\n",
    "    prec = 100 * precision_score(y_test, y_pred)\n",
    "    print(str(clf).split('(')[0])\n",
    "    print(\"% accuracy = {:.2f}\".format(acc))\n",
    "    print(\"% precision = {:.2f}\".format(prec))\n",
    "    print(confusion_matrix(y_test, y_pred))\n",
    "    print()"
   ]
  },
  {
   "cell_type": "code",
   "execution_count": 232,
   "metadata": {},
   "outputs": [],
   "source": [
    "def gridsearch(clf, param):\n",
    "    print(str(clf).split('(')[0])\n",
    "    clf1 = GridSearchCV(clf, param, scoring='precision', cv=10)\n",
    "    eval_clf(clf1, Xtrain_pca[:,sorted_idx[:12]], Xtest_pca[:,sorted_idx[:12]], Ytrain, Ytest)\n",
    "    print(clf1.best_params_)\n",
    "    print()"
   ]
  },
  {
   "cell_type": "code",
   "execution_count": 233,
   "metadata": {},
   "outputs": [
    {
     "name": "stdout",
     "output_type": "stream",
     "text": [
      "KNeighborsClassifier\n",
      "GridSearchCV\n",
      "% accuracy = 70.25\n",
      "% precision = 80.31\n",
      "[[ 301  303]\n",
      " [ 348 1236]]\n",
      "\n",
      "{'n_neighbors': 1}\n",
      "\n",
      "DecisionTreeClassifier\n",
      "GridSearchCV\n",
      "% accuracy = 76.74\n",
      "% precision = 81.67\n",
      "[[ 293  311]\n",
      " [ 198 1386]]\n",
      "\n",
      "{'max_depth': 4}\n",
      "\n"
     ]
    }
   ],
   "source": [
    "knn = KNeighborsClassifier()\n",
    "param = {'n_neighbors':[1,3,5,7,9,11,13,15]}\n",
    "gridsearch(knn, param)\n",
    "\n",
    "dt = DecisionTreeClassifier(random_state=1)\n",
    "param = {'max_depth':range(1,15)}\n",
    "gridsearch(dt, param)"
   ]
  },
  {
   "cell_type": "markdown",
   "metadata": {},
   "source": [
    "En prenant les 12 variables les plus pertinentes:\n",
    "- Le meilleur paramètre pour l'algo des K neighbors est en prenant un seul voisin.\n",
    "- Pour l'arbre de décision, la profondeur optimale est 4 branches.\n",
    "\n",
    "(toujours en considérant la précision comme fonction de scoring)"
   ]
  },
  {
   "cell_type": "code",
   "execution_count": 234,
   "metadata": {},
   "outputs": [],
   "source": [
    "from sklearn.pipeline import Pipeline,FeatureUnion\n",
    "from sklearn.metrics import roc_auc_score"
   ]
  },
  {
   "cell_type": "code",
   "execution_count": 235,
   "metadata": {},
   "outputs": [],
   "source": [
    "def pipeline(clf):\n",
    "    \"\"\"\n",
    "    Renvoie une pipeline qui normalise, rajoute 3 composantes principales de l'ACP, puis applique un Classifier\n",
    "    \"\"\"\n",
    "    combined_features = FeatureUnion([('scaler', StandardScaler()), ('pca',PCA(n_components=3))])\n",
    "    return Pipeline([('scaler', StandardScaler()), ('pca',combined_features),\\\n",
    "                 ('clf', clf)])"
   ]
  },
  {
   "cell_type": "code",
   "execution_count": 236,
   "metadata": {},
   "outputs": [
    {
     "data": {
      "text/plain": [
       "Pipeline(memory=None,\n",
       "         steps=[('scaler',\n",
       "                 StandardScaler(copy=True, with_mean=True, with_std=True)),\n",
       "                ('pca',\n",
       "                 FeatureUnion(n_jobs=None,\n",
       "                              transformer_list=[('scaler',\n",
       "                                                 StandardScaler(copy=True,\n",
       "                                                                with_mean=True,\n",
       "                                                                with_std=True)),\n",
       "                                                ('pca',\n",
       "                                                 PCA(copy=True,\n",
       "                                                     iterated_power='auto',\n",
       "                                                     n_components=3,\n",
       "                                                     random_state=None,\n",
       "                                                     svd_solver='auto', tol=0.0,\n",
       "                                                     whiten=False))],\n",
       "                              transformer_weights=None, verbose=False)),\n",
       "                ('clf',\n",
       "                 KNeighborsClassifier(algorithm='auto', leaf_size=30,\n",
       "                                      metric='minkowski', metric_params=None,\n",
       "                                      n_jobs=None, n_neighbors=3, p=2,\n",
       "                                      weights='uniform'))],\n",
       "         verbose=False)"
      ]
     },
     "execution_count": 236,
     "metadata": {},
     "output_type": "execute_result"
    }
   ],
   "source": [
    "# exemple de pipeline avec un KNN\n",
    "pipeKNN=pipeline(KNeighborsClassifier(n_neighbors=3))\n",
    "pipeKNN"
   ]
  },
  {
   "cell_type": "code",
   "execution_count": 237,
   "metadata": {},
   "outputs": [],
   "source": [
    "import pickle"
   ]
  },
  {
   "cell_type": "code",
   "execution_count": 238,
   "metadata": {},
   "outputs": [],
   "source": [
    "outfile=open(\"pipeline\",\"wb\")\n",
    "pickle.dump(pipeline,outfile)\n",
    "outfile.close()"
   ]
  },
  {
   "cell_type": "code",
   "execution_count": 239,
   "metadata": {},
   "outputs": [],
   "source": [
    "infile = open(\"pipeline\",'rb')\n",
    "pipeline2 = pickle.load(infile)\n",
    "infile.close()"
   ]
  },
  {
   "cell_type": "code",
   "execution_count": 240,
   "metadata": {},
   "outputs": [
    {
     "name": "stdout",
     "output_type": "stream",
     "text": [
      "True\n",
      "<function pipeline at 0x00000262C9824F78>\n",
      "<function pipeline at 0x00000262C9824F78>\n"
     ]
    }
   ],
   "source": [
    "print(pipeline==pipeline2)\n",
    "\n",
    "print(pipeline)\n",
    "print(pipeline2)"
   ]
  },
  {
   "cell_type": "markdown",
   "metadata": {},
   "source": [
    "Ce sont bien les mêmes fonctions."
   ]
  },
  {
   "cell_type": "code",
   "execution_count": 241,
   "metadata": {},
   "outputs": [],
   "source": [
    "from sklearn.naive_bayes import GaussianNB\n",
    "from sklearn.ensemble import AdaBoostClassifier\n",
    "from sklearn.neural_network import MLPClassifier\n",
    "from sklearn.ensemble import BaggingClassifier"
   ]
  },
  {
   "cell_type": "code",
   "execution_count": 242,
   "metadata": {},
   "outputs": [],
   "source": [
    "from sklearn.model_selection import KFold\n",
    "from sklearn.model_selection import cross_validate,cross_val_score\n",
    "from time import time"
   ]
  },
  {
   "cell_type": "code",
   "execution_count": 249,
   "metadata": {},
   "outputs": [],
   "source": [
    "def run_classifiers(clfs,X,Y):\n",
    "    \"\"\"\n",
    "    Renvoie des estimations de l'accuracy, de l'AUC, de la precision et le temps d'execution \\\n",
    "    pour chaque classifier passe en entree, par 10 fold cross-validations \n",
    "    \"\"\"\n",
    "    kf = KFold(n_splits=10, shuffle=True, random_state=0)\n",
    "    for i in clfs:    \n",
    "        clf = clfs[i]\n",
    "        print(\"Classifier: {0} ({1})\".format(i,str(clf).split('(')[0]))\n",
    "        scoring = {\"acc\":\"accuracy\",\"auc\":\"roc_auc\",\"prec\":\"precision\"}\n",
    "        t1=time()\n",
    "        cv = cross_validate(clf, X, Y, cv=kf,scoring=scoring)\n",
    "        t2=time()  \n",
    "        print(\"Accuracy with cv is: {0:.2f}% +/- {1:.2f}%\".format(cv[\"test_acc\"].mean()*100, cv[\"test_acc\"].std()*100))\n",
    "        print(\"AUC with cv = {0:.2f}% +/- {1:.2f}%\".format(cv[\"test_auc\"].mean()*100,cv[\"test_auc\"].std()*100))\n",
    "        print(\"Precision with cv = {0:.2f}% +/- {1:.2f}%\".format(cv[\"test_prec\"].mean()*100,cv[\"test_prec\"].std()*100))\n",
    "        print(\"Temps d'execution : {0:.5f}s\".format(t2-t1))\n",
    "        print()"
   ]
  },
  {
   "cell_type": "code",
   "execution_count": 250,
   "metadata": {},
   "outputs": [],
   "source": [
    "def run_classifiers_pipe(clfs,X,Y):\n",
    "    \"\"\"\n",
    "    Renvoie les resultats de run_classifier sur des donnees que l'on traite (normalisation,ACP)\n",
    "    \"\"\"\n",
    "    kf = KFold(n_splits=10, shuffle=True, random_state=0)\n",
    "    for i in clfs:    \n",
    "        clf = clfs[i]\n",
    "        pipe=pipeline(clf)\n",
    "        print(\"Classifier: {0} ({1})\".format(i,str(clf).split('(')[0]))\n",
    "        scoring = {\"acc\":\"accuracy\",\"auc\":\"roc_auc\",\"prec\":\"precision\"}\n",
    "        t1=time()\n",
    "        cv = cross_validate(pipe, X, Y, cv=kf,scoring=scoring)\n",
    "        t2=time()  \n",
    "        print(\"Accuracy with cv is: {0:.2f}% +/- {1:.2f}%\".format(cv[\"test_acc\"].mean()*100, cv[\"test_acc\"].std()*100))\n",
    "        print(\"AUC with cv = {0:.2f}% +/- {1:.2f}%\".format(cv[\"test_auc\"].mean()*100,cv[\"test_auc\"].std()*100))\n",
    "        print(\"Precision with cv = {0:.2f}% +/- {1:.2f}%\".format(cv[\"test_prec\"].mean()*100,cv[\"test_prec\"].std()*100))\n",
    "        print(\"Temps d'execution : {0:.5f}s\".format(t2-t1))\n",
    "        print()"
   ]
  },
  {
   "cell_type": "code",
   "execution_count": 251,
   "metadata": {},
   "outputs": [],
   "source": [
    "clfs = {\n",
    " 'RF': RandomForestClassifier(n_estimators=50, random_state=1),\n",
    " 'KNN': KNeighborsClassifier(n_neighbors=10),\n",
    " 'NB' : GaussianNB(),\n",
    " 'CART' : DecisionTreeClassifier(random_state=1),\n",
    " 'ID3' : DecisionTreeClassifier(criterion=\"entropy\",random_state=1),\n",
    " 'stump' : DecisionTreeClassifier(max_depth=1,random_state=1),\n",
    " 'MLPC' : MLPClassifier(random_state=1,hidden_layer_sizes=(20,10)),\n",
    " 'KNN': KNeighborsClassifier(n_neighbors=5),\n",
    " 'bagging' : BaggingClassifier(n_estimators=50),\n",
    " 'adaboost' : AdaBoostClassifier(n_estimators=50),\n",
    " 'RF' : RandomForestClassifier(n_estimators=50),\n",
    " 'RF2' : RandomForestClassifier(n_estimators=12),\n",
    "}"
   ]
  },
  {
   "cell_type": "code",
   "execution_count": 57,
   "metadata": {},
   "outputs": [
    {
     "name": "stdout",
     "output_type": "stream",
     "text": [
      "Classifier: RF (RandomForestClassifier)\n",
      "Accuracy with cv is: 78.72% +/- 1.70%\n",
      "AUC with cv = 82.48% +/- 1.83%\n",
      "Precision with cv = 82.15% +/- 2.02%\n",
      "Temps d'execution : 1.97800s\n",
      "\n",
      "Classifier: KNN (KNeighborsClassifier)\n",
      "Accuracy with cv is: 71.52% +/- 1.70%\n",
      "AUC with cv = 66.22% +/- 2.71%\n",
      "Precision with cv = 76.69% +/- 1.94%\n",
      "Temps d'execution : 0.29204s\n",
      "\n",
      "Classifier: NB (GaussianNB)\n",
      "Accuracy with cv is: 77.21% +/- 2.19%\n",
      "AUC with cv = 79.09% +/- 2.59%\n",
      "Precision with cv = 82.81% +/- 1.79%\n",
      "Temps d'execution : 0.03200s\n",
      "\n",
      "Classifier: CART (DecisionTreeClassifier)\n",
      "Accuracy with cv is: 72.69% +/- 2.52%\n",
      "AUC with cv = 65.56% +/- 3.18%\n",
      "Precision with cv = 80.78% +/- 2.24%\n",
      "Temps d'execution : 0.16300s\n",
      "\n",
      "Classifier: ID3 (DecisionTreeClassifier)\n",
      "Accuracy with cv is: 72.34% +/- 2.44%\n",
      "AUC with cv = 66.35% +/- 2.95%\n",
      "Precision with cv = 81.40% +/- 2.90%\n",
      "Temps d'execution : 0.20396s\n",
      "\n",
      "Classifier: stump (DecisionTreeClassifier)\n",
      "Accuracy with cv is: 72.21% +/- 1.84%\n",
      "AUC with cv = 61.81% +/- 2.83%\n",
      "Precision with cv = 74.00% +/- 2.58%\n",
      "Temps d'execution : 0.03703s\n",
      "\n",
      "Classifier: MLPC (MLPClassifier)\n",
      "Accuracy with cv is: 68.61% +/- 5.50%\n",
      "AUC with cv = 73.50% +/- 2.18%\n",
      "Precision with cv = 81.94% +/- 5.89%\n",
      "Temps d'execution : 12.53597s\n",
      "\n",
      "Classifier: bagging (BaggingClassifier)\n",
      "Accuracy with cv is: 76.87% +/- 1.57%\n",
      "AUC with cv = 81.40% +/- 1.99%\n",
      "Precision with cv = 81.97% +/- 1.86%\n",
      "Temps d'execution : 4.89800s\n",
      "\n",
      "Classifier: adaboost (AdaBoostClassifier)\n",
      "Accuracy with cv is: 78.81% +/- 1.56%\n",
      "AUC with cv = 82.93% +/- 2.12%\n",
      "Precision with cv = 82.25% +/- 1.75%\n",
      "Temps d'execution : 1.49800s\n",
      "\n",
      "Classifier: RF2 (RandomForestClassifier)\n",
      "Accuracy with cv is: 76.57% +/- 1.66%\n",
      "AUC with cv = 79.31% +/- 1.59%\n",
      "Precision with cv = 82.52% +/- 1.39%\n",
      "Temps d'execution : 0.47600s\n",
      "\n"
     ]
    }
   ],
   "source": [
    "run_classifiers(clfs,X,Y)"
   ]
  },
  {
   "cell_type": "markdown",
   "metadata": {},
   "source": [
    "On regarde ici toujours la précision. Le meilleur algorithme ici est le Naive Bayes, qui est aussi l'un des plus rapides en temps d'execution. L'algorithme avec le moins de précision est le stump (arbre de décision à une branche)."
   ]
  },
  {
   "cell_type": "markdown",
   "metadata": {},
   "source": [
    "# II. Apprentissage supervisé : Données hétérogènes"
   ]
  },
  {
   "cell_type": "code",
   "execution_count": 252,
   "metadata": {},
   "outputs": [],
   "source": [
    "data=pd.read_csv(\"credit.data\",sep=\"\\t\",header=None)"
   ]
  },
  {
   "cell_type": "code",
   "execution_count": 253,
   "metadata": {},
   "outputs": [
    {
     "data": {
      "text/html": [
       "<div>\n",
       "<style scoped>\n",
       "    .dataframe tbody tr th:only-of-type {\n",
       "        vertical-align: middle;\n",
       "    }\n",
       "\n",
       "    .dataframe tbody tr th {\n",
       "        vertical-align: top;\n",
       "    }\n",
       "\n",
       "    .dataframe thead th {\n",
       "        text-align: right;\n",
       "    }\n",
       "</style>\n",
       "<table border=\"1\" class=\"dataframe\">\n",
       "  <thead>\n",
       "    <tr style=\"text-align: right;\">\n",
       "      <th></th>\n",
       "      <th>0</th>\n",
       "      <th>1</th>\n",
       "      <th>2</th>\n",
       "      <th>3</th>\n",
       "      <th>4</th>\n",
       "      <th>5</th>\n",
       "      <th>6</th>\n",
       "      <th>7</th>\n",
       "      <th>8</th>\n",
       "      <th>9</th>\n",
       "      <th>10</th>\n",
       "      <th>11</th>\n",
       "      <th>12</th>\n",
       "      <th>13</th>\n",
       "      <th>14</th>\n",
       "      <th>15</th>\n",
       "    </tr>\n",
       "  </thead>\n",
       "  <tbody>\n",
       "    <tr>\n",
       "      <th>0</th>\n",
       "      <td>b</td>\n",
       "      <td>30.83</td>\n",
       "      <td>0.000</td>\n",
       "      <td>u</td>\n",
       "      <td>g</td>\n",
       "      <td>w</td>\n",
       "      <td>v</td>\n",
       "      <td>1.25</td>\n",
       "      <td>t</td>\n",
       "      <td>t</td>\n",
       "      <td>1</td>\n",
       "      <td>f</td>\n",
       "      <td>g</td>\n",
       "      <td>202</td>\n",
       "      <td>0</td>\n",
       "      <td>+</td>\n",
       "    </tr>\n",
       "    <tr>\n",
       "      <th>1</th>\n",
       "      <td>a</td>\n",
       "      <td>58.67</td>\n",
       "      <td>4.460</td>\n",
       "      <td>u</td>\n",
       "      <td>g</td>\n",
       "      <td>q</td>\n",
       "      <td>h</td>\n",
       "      <td>3.04</td>\n",
       "      <td>t</td>\n",
       "      <td>t</td>\n",
       "      <td>6</td>\n",
       "      <td>f</td>\n",
       "      <td>g</td>\n",
       "      <td>43</td>\n",
       "      <td>560</td>\n",
       "      <td>+</td>\n",
       "    </tr>\n",
       "    <tr>\n",
       "      <th>2</th>\n",
       "      <td>a</td>\n",
       "      <td>24.50</td>\n",
       "      <td>0.500</td>\n",
       "      <td>u</td>\n",
       "      <td>g</td>\n",
       "      <td>q</td>\n",
       "      <td>h</td>\n",
       "      <td>1.50</td>\n",
       "      <td>t</td>\n",
       "      <td>f</td>\n",
       "      <td>0</td>\n",
       "      <td>f</td>\n",
       "      <td>g</td>\n",
       "      <td>280</td>\n",
       "      <td>824</td>\n",
       "      <td>+</td>\n",
       "    </tr>\n",
       "    <tr>\n",
       "      <th>3</th>\n",
       "      <td>b</td>\n",
       "      <td>27.83</td>\n",
       "      <td>1.540</td>\n",
       "      <td>u</td>\n",
       "      <td>g</td>\n",
       "      <td>w</td>\n",
       "      <td>v</td>\n",
       "      <td>3.75</td>\n",
       "      <td>t</td>\n",
       "      <td>t</td>\n",
       "      <td>5</td>\n",
       "      <td>t</td>\n",
       "      <td>g</td>\n",
       "      <td>100</td>\n",
       "      <td>3</td>\n",
       "      <td>+</td>\n",
       "    </tr>\n",
       "    <tr>\n",
       "      <th>4</th>\n",
       "      <td>b</td>\n",
       "      <td>20.17</td>\n",
       "      <td>5.625</td>\n",
       "      <td>u</td>\n",
       "      <td>g</td>\n",
       "      <td>w</td>\n",
       "      <td>v</td>\n",
       "      <td>1.71</td>\n",
       "      <td>t</td>\n",
       "      <td>f</td>\n",
       "      <td>0</td>\n",
       "      <td>f</td>\n",
       "      <td>s</td>\n",
       "      <td>120</td>\n",
       "      <td>0</td>\n",
       "      <td>+</td>\n",
       "    </tr>\n",
       "  </tbody>\n",
       "</table>\n",
       "</div>"
      ],
      "text/plain": [
       "  0      1      2  3  4  5  6     7  8  9   10 11 12   13   14 15\n",
       "0  b  30.83  0.000  u  g  w  v  1.25  t  t   1  f  g  202    0  +\n",
       "1  a  58.67  4.460  u  g  q  h  3.04  t  t   6  f  g   43  560  +\n",
       "2  a  24.50  0.500  u  g  q  h  1.50  t  f   0  f  g  280  824  +\n",
       "3  b  27.83  1.540  u  g  w  v  3.75  t  t   5  t  g  100    3  +\n",
       "4  b  20.17  5.625  u  g  w  v  1.71  t  f   0  f  s  120    0  +"
      ]
     },
     "execution_count": 253,
     "metadata": {},
     "output_type": "execute_result"
    }
   ],
   "source": [
    "data.head()"
   ]
  },
  {
   "cell_type": "code",
   "execution_count": 254,
   "metadata": {},
   "outputs": [],
   "source": [
    "X=data.iloc[:,0:15].values\n",
    "Y=data.iloc[:,15].values"
   ]
  },
  {
   "cell_type": "code",
   "execution_count": 255,
   "metadata": {},
   "outputs": [],
   "source": [
    "col_num=[0,3,4,5,6,8,9,11,12]\n",
    "Xnum = np.delete(X, col_num, 1)"
   ]
  },
  {
   "cell_type": "code",
   "execution_count": 256,
   "metadata": {},
   "outputs": [
    {
     "data": {
      "text/plain": [
       "(688, 6)"
      ]
     },
     "execution_count": 256,
     "metadata": {},
     "output_type": "execute_result"
    }
   ],
   "source": [
    "Xnum.shape"
   ]
  },
  {
   "cell_type": "code",
   "execution_count": 257,
   "metadata": {},
   "outputs": [],
   "source": [
    "Xnum[Xnum=='?']='nan'"
   ]
  },
  {
   "cell_type": "code",
   "execution_count": 258,
   "metadata": {},
   "outputs": [],
   "source": [
    "Xnum=Xnum.astype(float)"
   ]
  },
  {
   "cell_type": "code",
   "execution_count": 259,
   "metadata": {},
   "outputs": [],
   "source": [
    "Y=Y[~np.isnan(Xnum).any(axis=1)]"
   ]
  },
  {
   "cell_type": "code",
   "execution_count": 260,
   "metadata": {},
   "outputs": [
    {
     "data": {
      "text/plain": [
       "(666,)"
      ]
     },
     "execution_count": 260,
     "metadata": {},
     "output_type": "execute_result"
    }
   ],
   "source": [
    "Y.shape"
   ]
  },
  {
   "cell_type": "code",
   "execution_count": 261,
   "metadata": {},
   "outputs": [],
   "source": [
    "Xnum=Xnum[~np.isnan(Xnum).any(axis=1)]"
   ]
  },
  {
   "cell_type": "code",
   "execution_count": 262,
   "metadata": {},
   "outputs": [
    {
     "data": {
      "text/plain": [
       "(666, 6)"
      ]
     },
     "execution_count": 262,
     "metadata": {},
     "output_type": "execute_result"
    }
   ],
   "source": [
    "Xnum.shape"
   ]
  },
  {
   "cell_type": "markdown",
   "metadata": {},
   "source": [
    "On a supprimé 22 lignes."
   ]
  },
  {
   "cell_type": "code",
   "execution_count": 263,
   "metadata": {},
   "outputs": [
    {
     "data": {
      "text/plain": [
       "(array([299.,   0.,   0.,   0.,   0.,   0.,   0.,   0.,   0., 367.]),\n",
       " array([0. , 0.1, 0.2, 0.3, 0.4, 0.5, 0.6, 0.7, 0.8, 0.9, 1. ]),\n",
       " <a list of 10 Patch objects>)"
      ]
     },
     "execution_count": 263,
     "metadata": {},
     "output_type": "execute_result"
    },
    {
     "data": {
      "image/png": "[encoded data removed]",
      "text/plain": [
       "<Figure size 432x288 with 1 Axes>"
      ]
     },
     "metadata": {
      "needs_background": "light"
     },
     "output_type": "display_data"
    }
   ],
   "source": [
    "plt.hist(Y)"
   ]
  },
  {
   "cell_type": "code",
   "execution_count": 264,
   "metadata": {},
   "outputs": [],
   "source": [
    "Y[Y=='+']=1\n",
    "Y[Y=='-']=0"
   ]
  },
  {
   "cell_type": "code",
   "execution_count": 265,
   "metadata": {},
   "outputs": [],
   "source": [
    "Y=Y.astype(float)"
   ]
  },
  {
   "cell_type": "code",
   "execution_count": 268,
   "metadata": {},
   "outputs": [
    {
     "name": "stdout",
     "output_type": "stream",
     "text": [
      "Crédit refusé : 55.11 %. Crédit accordé : 44.89 %\n"
     ]
    }
   ],
   "source": [
    "mp=np.sum(Y==0)*100/len(Y)\n",
    "bp=np.sum(Y==1)*100/len(Y)\n",
    "\n",
    "print(\"Crédit refusé : {0:.2f} %. Crédit accordé : {1:.2f} %\".format(mp,bp))"
   ]
  },
  {
   "cell_type": "code",
   "execution_count": 267,
   "metadata": {},
   "outputs": [
    {
     "name": "stdout",
     "output_type": "stream",
     "text": [
      "Classifier: RF (RandomForestClassifier)\n",
      "Accuracy with cv is: 77.63% +/- 5.22%\n",
      "AUC with cv = 84.18% +/- 4.79%\n",
      "Precision with cv = 78.38% +/- 4.52%\n",
      "Temps d'execution : 0.74667s\n",
      "\n",
      "Classifier: KNN (KNeighborsClassifier)\n",
      "Accuracy with cv is: 70.86% +/- 3.88%\n",
      "AUC with cv = 73.32% +/- 4.67%\n",
      "Precision with cv = 71.24% +/- 6.44%\n",
      "Temps d'execution : 0.05000s\n",
      "\n",
      "Classifier: NB (GaussianNB)\n",
      "Accuracy with cv is: 71.61% +/- 4.96%\n",
      "AUC with cv = 79.31% +/- 5.80%\n",
      "Precision with cv = 83.22% +/- 5.15%\n",
      "Temps d'execution : 0.02200s\n",
      "\n",
      "Classifier: CART (DecisionTreeClassifier)\n",
      "Accuracy with cv is: 71.63% +/- 4.74%\n",
      "AUC with cv = 71.13% +/- 5.12%\n",
      "Precision with cv = 67.98% +/- 4.52%\n",
      "Temps d'execution : 0.03503s\n",
      "\n",
      "Classifier: ID3 (DecisionTreeClassifier)\n",
      "Accuracy with cv is: 73.88% +/- 3.85%\n",
      "AUC with cv = 73.41% +/- 4.49%\n",
      "Precision with cv = 70.52% +/- 5.31%\n",
      "Temps d'execution : 0.04103s\n",
      "\n",
      "Classifier: stump (DecisionTreeClassifier)\n",
      "Accuracy with cv is: 74.33% +/- 6.36%\n",
      "AUC with cv = 72.28% +/- 5.19%\n",
      "Precision with cv = 86.45% +/- 7.65%\n",
      "Temps d'execution : 0.02697s\n",
      "\n",
      "Classifier: MLPC (MLPClassifier)\n",
      "Accuracy with cv is: 67.72% +/- 6.14%\n",
      "AUC with cv = 71.36% +/- 7.05%\n",
      "Precision with cv = 66.95% +/- 7.53%\n",
      "Temps d'execution : 0.90203s\n",
      "\n",
      "Classifier: bagging (BaggingClassifier)\n",
      "Accuracy with cv is: 78.10% +/- 5.59%\n",
      "AUC with cv = 83.59% +/- 4.91%\n",
      "Precision with cv = 78.37% +/- 6.59%\n",
      "Temps d'execution : 0.91700s\n",
      "\n",
      "Classifier: adaboost (AdaBoostClassifier)\n",
      "Accuracy with cv is: 77.04% +/- 6.28%\n",
      "AUC with cv = 84.08% +/- 5.28%\n",
      "Precision with cv = 76.11% +/- 6.04%\n",
      "Temps d'execution : 0.67999s\n",
      "\n",
      "Classifier: RF2 (RandomForestClassifier)\n",
      "Accuracy with cv is: 77.93% +/- 6.22%\n",
      "AUC with cv = 83.55% +/- 4.95%\n",
      "Precision with cv = 80.44% +/- 5.17%\n",
      "Temps d'execution : 0.18703s\n",
      "\n"
     ]
    }
   ],
   "source": [
    "run_classifiers(clfs,Xnum,Y)"
   ]
  },
  {
   "cell_type": "markdown",
   "metadata": {},
   "source": [
    "Sans normaliser nos données, nous regardons toujours principalement la précision, car on est dans le même type de données que dans la première partie du TP.\n",
    "\n",
    "Le classifier avec la plus haute précision est le stump (arbre de décision à une branche). "
   ]
  },
  {
   "cell_type": "code",
   "execution_count": 74,
   "metadata": {},
   "outputs": [],
   "source": [
    "sc=StandardScaler()\n",
    "Xnum_norm=sc.fit_transform(Xnum)"
   ]
  },
  {
   "cell_type": "code",
   "execution_count": 75,
   "metadata": {},
   "outputs": [
    {
     "name": "stdout",
     "output_type": "stream",
     "text": [
      "Classifier: RF (RandomForestClassifier)\n",
      "Accuracy with cv is: 79.28% +/- 5.21%\n",
      "AUC with cv = 84.60% +/- 4.06%\n",
      "Precision with cv = 80.54% +/- 4.46%\n",
      "Temps d'execution : 0.69903s\n",
      "\n",
      "Classifier: KNN (KNeighborsClassifier)\n",
      "Accuracy with cv is: 74.49% +/- 6.22%\n",
      "AUC with cv = 80.75% +/- 4.92%\n",
      "Precision with cv = 78.98% +/- 9.60%\n",
      "Temps d'execution : 0.05298s\n",
      "\n",
      "Classifier: NB (GaussianNB)\n",
      "Accuracy with cv is: 71.61% +/- 4.96%\n",
      "AUC with cv = 79.32% +/- 5.79%\n",
      "Precision with cv = 83.22% +/- 5.15%\n",
      "Temps d'execution : 0.02302s\n",
      "\n",
      "Classifier: CART (DecisionTreeClassifier)\n",
      "Accuracy with cv is: 71.62% +/- 4.80%\n",
      "AUC with cv = 71.15% +/- 5.18%\n",
      "Precision with cv = 67.86% +/- 4.84%\n",
      "Temps d'execution : 0.03400s\n",
      "\n",
      "Classifier: ID3 (DecisionTreeClassifier)\n",
      "Accuracy with cv is: 73.88% +/- 3.85%\n",
      "AUC with cv = 73.41% +/- 4.49%\n",
      "Precision with cv = 70.52% +/- 5.31%\n",
      "Temps d'execution : 0.03900s\n",
      "\n",
      "Classifier: stump (DecisionTreeClassifier)\n",
      "Accuracy with cv is: 74.33% +/- 6.36%\n",
      "AUC with cv = 72.28% +/- 5.19%\n",
      "Precision with cv = 86.45% +/- 7.65%\n",
      "Temps d'execution : 0.02300s\n",
      "\n",
      "Classifier: MLPC (MLPClassifier)\n",
      "Accuracy with cv is: 77.64% +/- 3.38%\n",
      "AUC with cv = 83.91% +/- 4.38%\n",
      "Precision with cv = 79.15% +/- 5.74%\n",
      "Temps d'execution : 2.93600s\n",
      "\n",
      "Classifier: bagging (BaggingClassifier)\n",
      "Accuracy with cv is: 77.04% +/- 5.00%\n",
      "AUC with cv = 83.43% +/- 4.90%\n",
      "Precision with cv = 78.24% +/- 5.19%\n",
      "Temps d'execution : 1.12300s\n",
      "\n",
      "Classifier: adaboost (AdaBoostClassifier)\n",
      "Accuracy with cv is: 77.04% +/- 6.28%\n",
      "AUC with cv = 84.08% +/- 5.28%\n",
      "Precision with cv = 76.11% +/- 6.04%\n",
      "Temps d'execution : 0.79601s\n",
      "\n",
      "Classifier: RF2 (RandomForestClassifier)\n",
      "Accuracy with cv is: 76.42% +/- 5.14%\n",
      "AUC with cv = 82.55% +/- 3.98%\n",
      "Precision with cv = 78.30% +/- 4.53%\n",
      "Temps d'execution : 0.21303s\n",
      "\n"
     ]
    }
   ],
   "source": [
    "run_classifiers(clfs,Xnum_norm,Y)"
   ]
  },
  {
   "cell_type": "markdown",
   "metadata": {},
   "source": [
    "Certains algorithmes ont une meilleure précision en normalisant nos données, comme MLPC. Pour d'autres, la précision se détériore, comme pour la Random Forest à 12 arbres. Pour certains algorithmes, la normalisation ne change rien."
   ]
  },
  {
   "cell_type": "code",
   "execution_count": 269,
   "metadata": {},
   "outputs": [],
   "source": [
    "X=data.iloc[:,0:15].values\n",
    "Y=data.iloc[:,15].values\n",
    "\n",
    "col_num=[0,3,4,5,6,8,9,11,12]\n",
    "X_num = np.delete(X, col_num, 1)\n",
    "X_cat=np.delete(X, [1,2,7,10,13,14], 1)"
   ]
  },
  {
   "cell_type": "code",
   "execution_count": 270,
   "metadata": {},
   "outputs": [],
   "source": [
    "from sklearn.impute import SimpleImputer\n",
    "from sklearn.preprocessing import OneHotEncoder"
   ]
  },
  {
   "cell_type": "code",
   "execution_count": 271,
   "metadata": {},
   "outputs": [],
   "source": [
    "X_num[X_num == '?'] = np.nan\n",
    "X_num = X_num.astype(float)\n",
    "imp_num = SimpleImputer(missing_values=np.nan, strategy='mean')\n",
    "X_num = imp_num.fit_transform(X_num)"
   ]
  },
  {
   "cell_type": "code",
   "execution_count": 272,
   "metadata": {},
   "outputs": [],
   "source": [
    "for col_id in range(len(col_num)):\n",
    "    unique_val, val_idx = np.unique(X_cat[:, col_id], return_inverse=True)\n",
    "    X_cat[:, col_id] = val_idx\n",
    "imp_cat = SimpleImputer(missing_values=0, strategy='most_frequent')\n",
    "X_cat[:, range(5)] = imp_cat.fit_transform(X_cat[:, range(5)])"
   ]
  },
  {
   "cell_type": "code",
   "execution_count": 273,
   "metadata": {},
   "outputs": [],
   "source": [
    "X_cat_bin = OneHotEncoder().fit_transform(X_cat).toarray()"
   ]
  },
  {
   "cell_type": "code",
   "execution_count": 274,
   "metadata": {},
   "outputs": [],
   "source": [
    "X_tot=np.concatenate((X_num,X_cat_bin),axis=1)"
   ]
  },
  {
   "cell_type": "code",
   "execution_count": 275,
   "metadata": {},
   "outputs": [
    {
     "data": {
      "text/plain": [
       "(688, 46)"
      ]
     },
     "execution_count": 275,
     "metadata": {},
     "output_type": "execute_result"
    }
   ],
   "source": [
    "X_tot.shape"
   ]
  },
  {
   "cell_type": "code",
   "execution_count": 276,
   "metadata": {},
   "outputs": [],
   "source": [
    "Y[Y=='+']=1\n",
    "Y[Y=='-']=0\n",
    "Y=Y.astype(float)"
   ]
  },
  {
   "cell_type": "code",
   "execution_count": 277,
   "metadata": {},
   "outputs": [
    {
     "name": "stdout",
     "output_type": "stream",
     "text": [
      "Classifier: RF (RandomForestClassifier)\n",
      "Accuracy with cv is: 87.21% +/- 3.36%\n",
      "AUC with cv = 93.19% +/- 2.54%\n",
      "Precision with cv = 85.09% +/- 5.39%\n",
      "Temps d'execution : 0.71700s\n",
      "\n",
      "Classifier: KNN (KNeighborsClassifier)\n",
      "Accuracy with cv is: 69.50% +/- 5.33%\n",
      "AUC with cv = 73.13% +/- 4.24%\n",
      "Precision with cv = 69.16% +/- 8.01%\n",
      "Temps d'execution : 0.08498s\n",
      "\n",
      "Classifier: NB (GaussianNB)\n",
      "Accuracy with cv is: 83.58% +/- 4.45%\n",
      "AUC with cv = 91.52% +/- 3.84%\n",
      "Precision with cv = 84.83% +/- 6.46%\n",
      "Temps d'execution : 0.02499s\n",
      "\n",
      "Classifier: CART (DecisionTreeClassifier)\n",
      "Accuracy with cv is: 81.40% +/- 4.33%\n",
      "AUC with cv = 81.26% +/- 4.56%\n",
      "Precision with cv = 79.04% +/- 6.46%\n",
      "Temps d'execution : 0.04297s\n",
      "\n",
      "Classifier: ID3 (DecisionTreeClassifier)\n",
      "Accuracy with cv is: 81.82% +/- 4.54%\n",
      "AUC with cv = 81.80% +/- 4.41%\n",
      "Precision with cv = 78.38% +/- 7.76%\n",
      "Temps d'execution : 0.04900s\n",
      "\n",
      "Classifier: stump (DecisionTreeClassifier)\n",
      "Accuracy with cv is: 85.60% +/- 4.45%\n",
      "AUC with cv = 86.57% +/- 4.00%\n",
      "Precision with cv = 78.93% +/- 7.36%\n",
      "Temps d'execution : 0.02803s\n",
      "\n",
      "Classifier: MLPC (MLPClassifier)\n",
      "Accuracy with cv is: 77.91% +/- 5.87%\n",
      "AUC with cv = 82.90% +/- 8.97%\n",
      "Precision with cv = 78.53% +/- 7.36%\n",
      "Temps d'execution : 1.81497s\n",
      "\n",
      "Classifier: bagging (BaggingClassifier)\n",
      "Accuracy with cv is: 86.78% +/- 3.27%\n",
      "AUC with cv = 92.74% +/- 2.39%\n",
      "Precision with cv = 84.40% +/- 4.12%\n",
      "Temps d'execution : 1.23403s\n",
      "\n",
      "Classifier: adaboost (AdaBoostClassifier)\n",
      "Accuracy with cv is: 84.44% +/- 3.69%\n",
      "AUC with cv = 91.59% +/- 3.17%\n",
      "Precision with cv = 81.45% +/- 6.92%\n",
      "Temps d'execution : 0.79600s\n",
      "\n",
      "Classifier: RF2 (RandomForestClassifier)\n",
      "Accuracy with cv is: 86.62% +/- 4.36%\n",
      "AUC with cv = 91.91% +/- 2.85%\n",
      "Precision with cv = 85.41% +/- 5.14%\n",
      "Temps d'execution : 0.18897s\n",
      "\n"
     ]
    }
   ],
   "source": [
    "run_classifiers(clfs,X_tot,Y)"
   ]
  },
  {
   "cell_type": "markdown",
   "metadata": {},
   "source": [
    "En prenant maintenant les variables catégorielles, la précision, l'accuracy et l'AUC sont globalemment meilleurs."
   ]
  },
  {
   "cell_type": "markdown",
   "metadata": {},
   "source": [
    "# III. Apprentissage supervisé sur des données textuelles : Feature engineering et Classification"
   ]
  },
  {
   "cell_type": "code",
   "execution_count": 89,
   "metadata": {},
   "outputs": [],
   "source": [
    "sms=pd.read_csv('SMSSpamCollection.data',sep=\"\\t\",header=None)"
   ]
  },
  {
   "cell_type": "code",
   "execution_count": 90,
   "metadata": {},
   "outputs": [
    {
     "data": {
      "text/html": [
       "<div>\n",
       "<style scoped>\n",
       "    .dataframe tbody tr th:only-of-type {\n",
       "        vertical-align: middle;\n",
       "    }\n",
       "\n",
       "    .dataframe tbody tr th {\n",
       "        vertical-align: top;\n",
       "    }\n",
       "\n",
       "    .dataframe thead th {\n",
       "        text-align: right;\n",
       "    }\n",
       "</style>\n",
       "<table border=\"1\" class=\"dataframe\">\n",
       "  <thead>\n",
       "    <tr style=\"text-align: right;\">\n",
       "      <th></th>\n",
       "      <th>0</th>\n",
       "      <th>1</th>\n",
       "    </tr>\n",
       "  </thead>\n",
       "  <tbody>\n",
       "    <tr>\n",
       "      <th>0</th>\n",
       "      <td>ham</td>\n",
       "      <td>Go until jurong point, crazy.. Available only ...</td>\n",
       "    </tr>\n",
       "    <tr>\n",
       "      <th>1</th>\n",
       "      <td>ham</td>\n",
       "      <td>Ok lar... Joking wif u oni...</td>\n",
       "    </tr>\n",
       "    <tr>\n",
       "      <th>2</th>\n",
       "      <td>spam</td>\n",
       "      <td>Free entry in 2 a wkly comp to win FA Cup fina...</td>\n",
       "    </tr>\n",
       "    <tr>\n",
       "      <th>3</th>\n",
       "      <td>ham</td>\n",
       "      <td>U dun say so early hor... U c already then say...</td>\n",
       "    </tr>\n",
       "    <tr>\n",
       "      <th>4</th>\n",
       "      <td>ham</td>\n",
       "      <td>Nah I don't think he goes to usf, he lives aro...</td>\n",
       "    </tr>\n",
       "  </tbody>\n",
       "</table>\n",
       "</div>"
      ],
      "text/plain": [
       "      0                                                  1\n",
       "0   ham  Go until jurong point, crazy.. Available only ...\n",
       "1   ham                      Ok lar... Joking wif u oni...\n",
       "2  spam  Free entry in 2 a wkly comp to win FA Cup fina...\n",
       "3   ham  U dun say so early hor... U c already then say...\n",
       "4   ham  Nah I don't think he goes to usf, he lives aro..."
      ]
     },
     "execution_count": 90,
     "metadata": {},
     "output_type": "execute_result"
    }
   ],
   "source": [
    "sms.head()"
   ]
  },
  {
   "cell_type": "code",
   "execution_count": 91,
   "metadata": {},
   "outputs": [
    {
     "data": {
      "text/plain": [
       "(5572, 2)"
      ]
     },
     "execution_count": 91,
     "metadata": {},
     "output_type": "execute_result"
    }
   ],
   "source": [
    "sms.shape"
   ]
  },
  {
   "cell_type": "code",
   "execution_count": 92,
   "metadata": {},
   "outputs": [],
   "source": [
    "corpus=sms.iloc[:,1].values\n",
    "Y=sms.iloc[:,0].values\n",
    "Y[Y==\"ham\"]=0\n",
    "Y[Y==\"spam\"]=1\n",
    "Y=Y.astype(int)"
   ]
  },
  {
   "cell_type": "code",
   "execution_count": 173,
   "metadata": {},
   "outputs": [
    {
     "name": "stdout",
     "output_type": "stream",
     "text": [
      "Nombre de spam : 13.41%, Nombre de ham : 86.59%\n"
     ]
    }
   ],
   "source": [
    "nbspam=np.sum(Y==1)*100/len(Y)\n",
    "nbham=np.sum(Y==0)*100/len(Y)\n",
    "\n",
    "print(\"Nombre de spam : {0:.2f}%, Nombre de ham : {1:.2f}%\".format(nbspam,nbham))"
   ]
  },
  {
   "cell_type": "code",
   "execution_count": 93,
   "metadata": {},
   "outputs": [],
   "source": [
    "from sklearn.feature_extraction.text import CountVectorizer"
   ]
  },
  {
   "cell_type": "code",
   "execution_count": 95,
   "metadata": {},
   "outputs": [],
   "source": [
    "CV=CountVectorizer(max_features=300,stop_words='english')\n",
    "CV.fit(corpus)\n",
    "X_bow=CV.transform(corpus)"
   ]
  },
  {
   "cell_type": "code",
   "execution_count": 96,
   "metadata": {},
   "outputs": [
    {
     "data": {
      "text/plain": [
       "(5572, 300)"
      ]
     },
     "execution_count": 96,
     "metadata": {},
     "output_type": "execute_result"
    }
   ],
   "source": [
    "X_bow.shape"
   ]
  },
  {
   "cell_type": "code",
   "execution_count": 278,
   "metadata": {},
   "outputs": [
    {
     "data": {
      "text/plain": [
       "array([0, 0, 0, 0, 0, 0, 0, 0, 0, 0, 0, 0, 0, 0, 0, 0, 0, 0, 0, 0, 0, 0,\n",
       "       0, 0, 0, 0, 0, 0, 0, 0, 0, 0, 0, 0, 0, 0, 0, 0, 0, 0, 0, 0, 0, 0,\n",
       "       0, 0, 0, 0, 0, 0, 0, 0, 0, 0, 0, 0, 0, 0, 0, 0, 0, 0, 0, 0, 0, 0,\n",
       "       0, 0, 0, 0, 0, 0, 0, 0, 0, 0, 0, 0, 0, 0, 0, 0, 0, 0, 0, 0, 0, 0,\n",
       "       0, 0, 0, 0, 0, 0, 0, 0, 0, 0, 0, 0, 0, 1, 1, 0, 0, 0, 0, 0, 0, 0,\n",
       "       0, 0, 0, 0, 0, 0, 0, 0, 0, 0, 0, 0, 0, 0, 0, 0, 0, 0, 0, 0, 0, 0,\n",
       "       0, 0, 0, 0, 0, 0, 0, 0, 0, 0, 0, 0, 0, 0, 0, 0, 0, 0, 0, 0, 0, 0,\n",
       "       0, 0, 0, 0, 0, 0, 0, 0, 0, 0, 0, 0, 0, 0, 0, 0, 0, 0, 0, 0, 0, 0,\n",
       "       0, 0, 0, 0, 0, 0, 0, 0, 0, 0, 0, 0, 0, 0, 0, 0, 0, 0, 0, 0, 0, 0,\n",
       "       0, 0, 0, 0, 0, 0, 0, 0, 0, 0, 0, 0, 0, 0, 0, 0, 0, 0, 0, 0, 0, 0,\n",
       "       0, 0, 0, 0, 0, 0, 0, 0, 0, 0, 0, 0, 0, 0, 0, 0, 0, 0, 0, 0, 0, 0,\n",
       "       0, 0, 0, 0, 0, 0, 0, 0, 0, 0, 0, 0, 0, 0, 0, 0, 0, 0, 0, 0, 0, 0,\n",
       "       0, 0, 0, 0, 0, 0, 0, 0, 0, 0, 0, 1, 0, 0, 0, 0, 0, 0, 0, 0, 0, 0,\n",
       "       0, 0, 0, 0, 0, 1, 0, 0, 0, 0, 0, 0, 0, 0], dtype=int64)"
      ]
     },
     "execution_count": 278,
     "metadata": {},
     "output_type": "execute_result"
    }
   ],
   "source": [
    "X_bow.toarray()[0,:]\n",
    "# 1er SMS: les 1 sont les mots cles."
   ]
  },
  {
   "cell_type": "code",
   "execution_count": 279,
   "metadata": {},
   "outputs": [
    {
     "data": {
      "text/plain": [
       "{'great': 102,\n",
       " 'world': 291,\n",
       " 'got': 101,\n",
       " 'wat': 275,\n",
       " 'ok': 185,\n",
       " 'lar': 133,\n",
       " 'free': 90,\n",
       " 'win': 283,\n",
       " 'text': 240,\n",
       " 'receive': 208,\n",
       " 'txt': 263,\n",
       " 'rate': 203,\n",
       " 'apply': 18,\n",
       " 'dun': 77,\n",
       " 'say': 216,\n",
       " 'early': 79,\n",
       " 'don': 74,\n",
       " 'think': 248,\n",
       " 'hey': 116,\n",
       " 'week': 279,\n",
       " 'word': 288,\n",
       " 'like': 143,\n",
       " 'fun': 94,\n",
       " 'xxx': 293,\n",
       " 'send': 218,\n",
       " '50': 10,\n",
       " 'speak': 231,\n",
       " 'friends': 92,\n",
       " 'network': 176,\n",
       " 'customer': 59,\n",
       " 'selected': 217,\n",
       " 'prize': 199,\n",
       " 'claim': 47,\n",
       " 'code': 49,\n",
       " 'mobile': 170,\n",
       " 'latest': 136,\n",
       " 'camera': 40,\n",
       " 'gonna': 99,\n",
       " 'home': 119,\n",
       " 'soon': 229,\n",
       " 'want': 274,\n",
       " 'talk': 238,\n",
       " 'stuff': 235,\n",
       " 'tonight': 257,\n",
       " 've': 268,\n",
       " 'today': 253,\n",
       " 'cash': 43,\n",
       " '100': 2,\n",
       " '000': 0,\n",
       " 'cost': 57,\n",
       " '150p': 4,\n",
       " 'day': 63,\n",
       " '16': 6,\n",
       " 'reply': 210,\n",
       " 'urgent': 266,\n",
       " 'won': 286,\n",
       " 'www': 292,\n",
       " 'right': 211,\n",
       " 'thank': 242,\n",
       " 'wont': 287,\n",
       " 'help': 115,\n",
       " 'use': 267,\n",
       " 'message': 163,\n",
       " 'com': 51,\n",
       " 'oh': 184,\n",
       " 'watching': 277,\n",
       " 'remember': 209,\n",
       " 'yes': 297,\n",
       " 'did': 67,\n",
       " 'make': 158,\n",
       " 'fine': 87,\n",
       " 'way': 278,\n",
       " 'feel': 86,\n",
       " 'dont': 75,\n",
       " 'miss': 168,\n",
       " 'ur': 265,\n",
       " 'try': 260,\n",
       " 'going': 98,\n",
       " 'pay': 188,\n",
       " 'da': 60,\n",
       " 'finish': 88,\n",
       " 'lunch': 156,\n",
       " 'lor': 152,\n",
       " 'meet': 161,\n",
       " 'just': 129,\n",
       " 'eat': 81,\n",
       " 'really': 207,\n",
       " 'getting': 95,\n",
       " 'lol': 148,\n",
       " 'bus': 35,\n",
       " 'left': 138,\n",
       " 'dinner': 70,\n",
       " 'love': 154,\n",
       " 'amp': 17,\n",
       " 'car': 41,\n",
       " 'll': 147,\n",
       " 'let': 140,\n",
       " 'know': 131,\n",
       " 'room': 213,\n",
       " 'work': 289,\n",
       " 'does': 72,\n",
       " 'wait': 270,\n",
       " 'sure': 236,\n",
       " 'live': 146,\n",
       " 'yeah': 295,\n",
       " 'doing': 73,\n",
       " 'tell': 239,\n",
       " 'thanks': 243,\n",
       " 'ringtone': 212,\n",
       " 'uk': 264,\n",
       " 'month': 172,\n",
       " 'yup': 299,\n",
       " 'look': 150,\n",
       " 'msg': 174,\n",
       " '2nd': 9,\n",
       " 'hello': 114,\n",
       " 'trying': 261,\n",
       " 'pls': 196,\n",
       " 'weekend': 280,\n",
       " 'need': 175,\n",
       " 'sweet': 237,\n",
       " 'sms': 228,\n",
       " 'nokia': 180,\n",
       " 'tomorrow': 255,\n",
       " 'hope': 120,\n",
       " 'man': 159,\n",
       " 'lt': 155,\n",
       " 'gt': 103,\n",
       " 'calls': 38,\n",
       " 'didn': 68,\n",
       " 'maybe': 160,\n",
       " 'ask': 19,\n",
       " 'bit': 31,\n",
       " 'time': 251,\n",
       " 'class': 48,\n",
       " 'half': 109,\n",
       " 'morning': 173,\n",
       " 'place': 193,\n",
       " 'thought': 250,\n",
       " 'best': 27,\n",
       " 'happy': 110,\n",
       " 'sorry': 230,\n",
       " 'new': 177,\n",
       " 'play': 195,\n",
       " 'end': 82,\n",
       " 'year': 296,\n",
       " 'special': 232,\n",
       " 'later': 135,\n",
       " 'meeting': 162,\n",
       " 'pick': 192,\n",
       " 'good': 100,\n",
       " 'come': 52,\n",
       " 'check': 46,\n",
       " 'said': 214,\n",
       " 'nice': 178,\n",
       " 'awarded': 22,\n",
       " '1000': 3,\n",
       " 'dis': 71,\n",
       " '18': 7,\n",
       " '10': 1,\n",
       " 'hear': 112,\n",
       " 'money': 171,\n",
       " 'hi': 117,\n",
       " 'babe': 23,\n",
       " 'im': 124,\n",
       " 'wanna': 273,\n",
       " 'waiting': 271,\n",
       " 'thats': 245,\n",
       " 'cool': 55,\n",
       " 'pa': 187,\n",
       " 'looking': 151,\n",
       " 'job': 126,\n",
       " 'ah': 15,\n",
       " 'stop': 234,\n",
       " 'real': 206,\n",
       " 'yo': 298,\n",
       " 'came': 39,\n",
       " 'bed': 26,\n",
       " 'night': 179,\n",
       " 'late': 134,\n",
       " 'afternoon': 14,\n",
       " 'smile': 227,\n",
       " 'service': 220,\n",
       " 'guaranteed': 104,\n",
       " 'buy': 36,\n",
       " 'po': 197,\n",
       " 'box': 32,\n",
       " 'wk': 285,\n",
       " 'forgot': 89,\n",
       " 'long': 149,\n",
       " 'guess': 106,\n",
       " 'life': 142,\n",
       " 'lot': 153,\n",
       " 'dear': 65,\n",
       " 'birthday': 30,\n",
       " 'aight': 16,\n",
       " 'people': 189,\n",
       " 'better': 28,\n",
       " 'cos': 56,\n",
       " 'things': 247,\n",
       " 'contact': 54,\n",
       " 'draw': 76,\n",
       " 'shows': 224,\n",
       " '150ppm': 5,\n",
       " 'haha': 108,\n",
       " 'went': 281,\n",
       " 'holiday': 118,\n",
       " 'min': 164,\n",
       " 'account': 12,\n",
       " 'landline': 132,\n",
       " 'award': 21,\n",
       " 'sent': 219,\n",
       " 'girl': 96,\n",
       " 'join': 127,\n",
       " 'bt': 34,\n",
       " 'chat': 45,\n",
       " 'sir': 225,\n",
       " 'little': 145,\n",
       " 'gud': 105,\n",
       " 'ya': 294,\n",
       " 'luv': 157,\n",
       " 'thk': 249,\n",
       " 'tv': 262,\n",
       " 'house': 122,\n",
       " 'boy': 33,\n",
       " 'missing': 169,\n",
       " 'friend': 91,\n",
       " 'liao': 141,\n",
       " 'coming': 53,\n",
       " 'ill': 123,\n",
       " 'offer': 182,\n",
       " 'guys': 107,\n",
       " 'working': 290,\n",
       " 'jus': 128,\n",
       " 'tmr': 252,\n",
       " 'evening': 84,\n",
       " 'dat': 62,\n",
       " 'big': 29,\n",
       " 'ready': 205,\n",
       " 'leh': 139,\n",
       " 'easy': 80,\n",
       " 'called': 37,\n",
       " 'important': 125,\n",
       " '500': 11,\n",
       " 'collect': 50,\n",
       " 'start': 233,\n",
       " 'reach': 204,\n",
       " 'person': 190,\n",
       " 'told': 254,\n",
       " 'face': 85,\n",
       " 'watch': 276,\n",
       " 'thanx': 244,\n",
       " 'asked': 20,\n",
       " 'didnt': 69,\n",
       " 'sleep': 226,\n",
       " 'true': 259,\n",
       " 'care': 42,\n",
       " 'video': 269,\n",
       " 'mins': 166,\n",
       " 'shopping': 223,\n",
       " 'plan': 194,\n",
       " 'baby': 24,\n",
       " 'hour': 121,\n",
       " 'shall': 221,\n",
       " 'phone': 191,\n",
       " 'shit': 222,\n",
       " 'cs': 58,\n",
       " 'dunno': 78,\n",
       " 'problem': 201,\n",
       " 'line': 144,\n",
       " 'number': 181,\n",
       " 'chance': 44,\n",
       " 'texts': 241,\n",
       " 'minutes': 167,\n",
       " 'orange': 186,\n",
       " 'wish': 284,\n",
       " 'quite': 202,\n",
       " 'leave': 137,\n",
       " 'having': 111,\n",
       " 'sat': 215,\n",
       " 'office': 183,\n",
       " 'days': 64,\n",
       " 'actually': 13,\n",
       " 'god': 97,\n",
       " 'tone': 256,\n",
       " '1st': 8,\n",
       " 'thing': 246,\n",
       " 'den': 66,\n",
       " 'heart': 113,\n",
       " 'mind': 165,\n",
       " 'bad': 25,\n",
       " 'princess': 198,\n",
       " 'enjoy': 83,\n",
       " 'kiss': 130,\n",
       " 'probably': 200,\n",
       " 'fuck': 93,\n",
       " 'wife': 282,\n",
       " 'dad': 61,\n",
       " 'town': 258,\n",
       " 'wan': 272}"
      ]
     },
     "execution_count": 279,
     "metadata": {},
     "output_type": "execute_result"
    }
   ],
   "source": [
    "CV.vocabulary_\n",
    "# tous les mots clefs de tous les SMS"
   ]
  },
  {
   "cell_type": "code",
   "execution_count": 114,
   "metadata": {},
   "outputs": [
    {
     "name": "stdout",
     "output_type": "stream",
     "text": [
      "Classifier: RF (RandomForestClassifier)\n",
      "Accuracy with cv is: 97.68% +/- 0.71%\n",
      "AUC with cv = 98.11% +/- 0.77%\n",
      "Precision with cv = 93.69% +/- 3.42%\n",
      "Temps d'execution : 2.77394s\n",
      "\n",
      "Classifier: KNN (KNeighborsClassifier)\n",
      "Accuracy with cv is: 94.42% +/- 1.08%\n",
      "AUC with cv = 91.88% +/- 1.56%\n",
      "Precision with cv = 98.37% +/- 2.12%\n",
      "Temps d'execution : 1.24000s\n",
      "\n",
      "Classifier: NB (GaussianNB)\n",
      "Accuracy with cv is: nan% +/- nan%\n",
      "AUC with cv = nan% +/- nan%\n",
      "Precision with cv = nan% +/- nan%\n",
      "Temps d'execution : 0.00798s\n",
      "\n",
      "Classifier: CART (DecisionTreeClassifier)\n",
      "Accuracy with cv is: 96.32% +/- 0.71%\n",
      "AUC with cv = 92.44% +/- 2.57%\n",
      "Precision with cv = 86.71% +/- 3.14%\n",
      "Temps d'execution : 0.31001s\n",
      "\n",
      "Classifier: ID3 (DecisionTreeClassifier)\n",
      "Accuracy with cv is: 96.18% +/- 0.79%\n",
      "AUC with cv = 92.09% +/- 2.05%\n",
      "Precision with cv = 87.21% +/- 3.95%\n",
      "Temps d'execution : 0.34098s\n",
      "\n",
      "Classifier: stump (DecisionTreeClassifier)\n",
      "Accuracy with cv is: 89.09% +/- 1.24%\n",
      "AUC with cv = 59.91% +/- 2.18%\n",
      "Precision with cv = 92.04% +/- 5.02%\n",
      "Temps d'execution : 0.03702s\n",
      "\n",
      "Classifier: MLPC (MLPClassifier)\n",
      "Accuracy with cv is: 97.76% +/- 0.61%\n",
      "AUC with cv = 97.17% +/- 0.84%\n",
      "Precision with cv = 94.93% +/- 2.42%\n",
      "Temps d'execution : 27.28100s\n",
      "\n",
      "Classifier: bagging (BaggingClassifier)\n",
      "Accuracy with cv is: 96.88% +/- 0.64%\n",
      "AUC with cv = 97.55% +/- 0.30%\n",
      "Precision with cv = 89.11% +/- 2.30%\n",
      "Temps d'execution : 12.85600s\n",
      "\n",
      "Classifier: adaboost (AdaBoostClassifier)\n",
      "Accuracy with cv is: 97.22% +/- 0.68%\n",
      "AUC with cv = 96.81% +/- 0.91%\n",
      "Precision with cv = 94.26% +/- 2.28%\n",
      "Temps d'execution : 1.38902s\n",
      "\n",
      "Classifier: RF2 (RandomForestClassifier)\n",
      "Accuracy with cv is: 97.36% +/- 0.50%\n",
      "AUC with cv = 97.52% +/- 0.76%\n",
      "Precision with cv = 92.59% +/- 2.71%\n",
      "Temps d'execution : 0.75601s\n",
      "\n"
     ]
    }
   ],
   "source": [
    "run_classifiers(clfs,X_bow.toarray(),Y)"
   ]
  },
  {
   "cell_type": "markdown",
   "metadata": {},
   "source": [
    "Les meilleurs algorithmes en terme d'accuracy ici sont le MLPClassifier ainsi que les Random Forest.\n",
    "Les résultats des autres algo sont tout aussi bien puisqu'on a souvent plus de 95% d'accuracy (sauf le stump)."
   ]
  },
  {
   "cell_type": "markdown",
   "metadata": {},
   "source": [
    "# TFIDF"
   ]
  },
  {
   "cell_type": "code",
   "execution_count": 100,
   "metadata": {},
   "outputs": [],
   "source": [
    "from sklearn.feature_extraction.text import TfidfTransformer"
   ]
  },
  {
   "cell_type": "code",
   "execution_count": 103,
   "metadata": {},
   "outputs": [],
   "source": [
    "TFIDF=TfidfTransformer()\n",
    "TFIDF.fit(X_bow)\n",
    "X_tfidf=TFIDF.transform(X_bow)"
   ]
  },
  {
   "cell_type": "code",
   "execution_count": 104,
   "metadata": {},
   "outputs": [
    {
     "data": {
      "text/plain": [
       "array([0.        , 0.        , 0.        , 0.        , 0.        ,\n",
       "       0.        , 0.        , 0.        , 0.        , 0.        ,\n",
       "       0.        , 0.        , 0.        , 0.        , 0.        ,\n",
       "       0.        , 0.        , 0.        , 0.        , 0.        ,\n",
       "       0.        , 0.        , 0.        , 0.        , 0.        ,\n",
       "       0.        , 0.        , 0.        , 0.        , 0.        ,\n",
       "       0.        , 0.        , 0.        , 0.        , 0.        ,\n",
       "       0.        , 0.        , 0.        , 0.        , 0.        ,\n",
       "       0.        , 0.        , 0.        , 0.        , 0.        ,\n",
       "       0.        , 0.        , 0.        , 0.        , 0.        ,\n",
       "       0.        , 0.        , 0.        , 0.        , 0.        ,\n",
       "       0.        , 0.        , 0.        , 0.        , 0.        ,\n",
       "       0.        , 0.        , 0.        , 0.        , 0.        ,\n",
       "       0.        , 0.        , 0.        , 0.        , 0.        ,\n",
       "       0.        , 0.        , 0.        , 0.        , 0.        ,\n",
       "       0.        , 0.        , 0.        , 0.        , 0.        ,\n",
       "       0.        , 0.        , 0.        , 0.        , 0.        ,\n",
       "       0.        , 0.        , 0.        , 0.        , 0.        ,\n",
       "       0.        , 0.        , 0.        , 0.        , 0.        ,\n",
       "       0.        , 0.        , 0.        , 0.        , 0.        ,\n",
       "       0.        , 0.41201526, 0.48548552, 0.        , 0.        ,\n",
       "       0.        , 0.        , 0.        , 0.        , 0.        ,\n",
       "       0.        , 0.        , 0.        , 0.        , 0.        ,\n",
       "       0.        , 0.        , 0.        , 0.        , 0.        ,\n",
       "       0.        , 0.        , 0.        , 0.        , 0.        ,\n",
       "       0.        , 0.        , 0.        , 0.        , 0.        ,\n",
       "       0.        , 0.        , 0.        , 0.        , 0.        ,\n",
       "       0.        , 0.        , 0.        , 0.        , 0.        ,\n",
       "       0.        , 0.        , 0.        , 0.        , 0.        ,\n",
       "       0.        , 0.        , 0.        , 0.        , 0.        ,\n",
       "       0.        , 0.        , 0.        , 0.        , 0.        ,\n",
       "       0.        , 0.        , 0.        , 0.        , 0.        ,\n",
       "       0.        , 0.        , 0.        , 0.        , 0.        ,\n",
       "       0.        , 0.        , 0.        , 0.        , 0.        ,\n",
       "       0.        , 0.        , 0.        , 0.        , 0.        ,\n",
       "       0.        , 0.        , 0.        , 0.        , 0.        ,\n",
       "       0.        , 0.        , 0.        , 0.        , 0.        ,\n",
       "       0.        , 0.        , 0.        , 0.        , 0.        ,\n",
       "       0.        , 0.        , 0.        , 0.        , 0.        ,\n",
       "       0.        , 0.        , 0.        , 0.        , 0.        ,\n",
       "       0.        , 0.        , 0.        , 0.        , 0.        ,\n",
       "       0.        , 0.        , 0.        , 0.        , 0.        ,\n",
       "       0.        , 0.        , 0.        , 0.        , 0.        ,\n",
       "       0.        , 0.        , 0.        , 0.        , 0.        ,\n",
       "       0.        , 0.        , 0.        , 0.        , 0.        ,\n",
       "       0.        , 0.        , 0.        , 0.        , 0.        ,\n",
       "       0.        , 0.        , 0.        , 0.        , 0.        ,\n",
       "       0.        , 0.        , 0.        , 0.        , 0.        ,\n",
       "       0.        , 0.        , 0.        , 0.        , 0.        ,\n",
       "       0.        , 0.        , 0.        , 0.        , 0.        ,\n",
       "       0.        , 0.        , 0.        , 0.        , 0.        ,\n",
       "       0.        , 0.        , 0.        , 0.        , 0.        ,\n",
       "       0.        , 0.        , 0.        , 0.        , 0.        ,\n",
       "       0.        , 0.        , 0.        , 0.        , 0.        ,\n",
       "       0.        , 0.        , 0.        , 0.        , 0.        ,\n",
       "       0.4910562 , 0.        , 0.        , 0.        , 0.        ,\n",
       "       0.        , 0.        , 0.        , 0.        , 0.        ,\n",
       "       0.        , 0.        , 0.        , 0.        , 0.        ,\n",
       "       0.        , 0.59448385, 0.        , 0.        , 0.        ,\n",
       "       0.        , 0.        , 0.        , 0.        , 0.        ])"
      ]
     },
     "execution_count": 104,
     "metadata": {},
     "output_type": "execute_result"
    }
   ],
   "source": [
    "X_tfidf.toarray()[0,:]"
   ]
  },
  {
   "cell_type": "code",
   "execution_count": 117,
   "metadata": {},
   "outputs": [
    {
     "name": "stdout",
     "output_type": "stream",
     "text": [
      "Classifier: RF (RandomForestClassifier)\n",
      "Accuracy with cv is: 97.70% +/- 0.58%\n",
      "AUC with cv = 98.25% +/- 0.88%\n",
      "Precision with cv = 94.78% +/- 2.87%\n",
      "Temps d'execution : 11.54200s\n",
      "\n",
      "Classifier: KNN (KNeighborsClassifier)\n",
      "Accuracy with cv is: 94.96% +/- 0.80%\n",
      "AUC with cv = 93.68% +/- 1.90%\n",
      "Precision with cv = 96.13% +/- 2.89%\n",
      "Temps d'execution : 22.87397s\n",
      "\n",
      "Classifier: NB (GaussianNB)\n",
      "Accuracy with cv is: 68.88% +/- 1.25%\n",
      "AUC with cv = 80.27% +/- 0.98%\n",
      "Precision with cv = 29.44% +/- 2.25%\n",
      "Temps d'execution : 0.42000s\n",
      "\n",
      "Classifier: CART (DecisionTreeClassifier)\n",
      "Accuracy with cv is: 96.61% +/- 0.95%\n",
      "AUC with cv = 92.12% +/- 2.40%\n",
      "Precision with cv = 88.32% +/- 3.72%\n",
      "Temps d'execution : 5.74400s\n",
      "\n",
      "Classifier: ID3 (DecisionTreeClassifier)\n",
      "Accuracy with cv is: 96.63% +/- 0.79%\n",
      "AUC with cv = 91.45% +/- 2.24%\n",
      "Precision with cv = 89.65% +/- 3.24%\n",
      "Temps d'execution : 5.44203s\n",
      "\n",
      "Classifier: stump (DecisionTreeClassifier)\n",
      "Accuracy with cv is: 89.09% +/- 1.24%\n",
      "AUC with cv = 59.91% +/- 2.18%\n",
      "Precision with cv = 92.04% +/- 5.02%\n",
      "Temps d'execution : 0.24097s\n",
      "\n",
      "Classifier: MLPC (MLPClassifier)\n",
      "Accuracy with cv is: 97.70% +/- 0.54%\n",
      "AUC with cv = 97.86% +/- 0.74%\n",
      "Precision with cv = 94.09% +/- 3.02%\n",
      "Temps d'execution : 36.21018s\n",
      "\n",
      "Classifier: bagging (BaggingClassifier)\n",
      "Accuracy with cv is: 96.95% +/- 0.94%\n",
      "AUC with cv = 97.47% +/- 0.85%\n",
      "Precision with cv = 89.24% +/- 3.28%\n",
      "Temps d'execution : 141.29158s\n",
      "\n",
      "Classifier: adaboost (AdaBoostClassifier)\n",
      "Accuracy with cv is: 96.95% +/- 0.81%\n",
      "AUC with cv = 96.67% +/- 0.87%\n",
      "Precision with cv = 94.04% +/- 2.43%\n",
      "Temps d'execution : 10.81600s\n",
      "\n",
      "Classifier: RF2 (RandomForestClassifier)\n",
      "Accuracy with cv is: 97.51% +/- 0.66%\n",
      "AUC with cv = 97.93% +/- 0.83%\n",
      "Precision with cv = 94.39% +/- 2.00%\n",
      "Temps d'execution : 2.76800s\n",
      "\n"
     ]
    }
   ],
   "source": [
    "run_classifiers(clfs,X_tfidf.toarray(),Y)"
   ]
  },
  {
   "cell_type": "markdown",
   "metadata": {},
   "source": [
    "En transformant nos données avec l'algo de normalisation et de pondération de l'importance TFIDF, nous obtenons des résultats plus ou moins équivalents : Nous gagnons 0.02% sur la première Random Forest, nous perdons 0.06% sur le MLPClassifier..."
   ]
  },
  {
   "cell_type": "markdown",
   "metadata": {},
   "source": [
    "# SVD, LSA, LSI"
   ]
  },
  {
   "cell_type": "markdown",
   "metadata": {},
   "source": [
    "Polysémie: un même mot peut avoir plusieurs sens\n",
    "\n",
    "Synonymie:2 mots clefs qui ont le même sens"
   ]
  },
  {
   "cell_type": "code",
   "execution_count": 107,
   "metadata": {},
   "outputs": [],
   "source": [
    "from sklearn.decomposition import TruncatedSVD"
   ]
  },
  {
   "cell_type": "code",
   "execution_count": 108,
   "metadata": {},
   "outputs": [],
   "source": [
    "SVD= TruncatedSVD(n_components=30)\n",
    "SVD.fit(X_tfidf)\n",
    "X_svd=SVD.transform(X_tfidf)"
   ]
  },
  {
   "cell_type": "code",
   "execution_count": 109,
   "metadata": {},
   "outputs": [
    {
     "data": {
      "text/plain": [
       "array([ 0.11782245,  0.02089514, -0.06422193, -0.02765607, -0.06164277,\n",
       "       -0.10576071,  0.01879089,  0.00284323, -0.21227443,  0.24416113,\n",
       "        0.06508329, -0.24265889,  0.02244799, -0.01769285,  0.03867698,\n",
       "       -0.01155733, -0.01748537,  0.01639556, -0.03656722,  0.0025183 ,\n",
       "        0.03851961, -0.02867225, -0.02692959, -0.01635288,  0.06556135,\n",
       "       -0.00259917,  0.03797629, -0.03406886,  0.05139639,  0.0732636 ])"
      ]
     },
     "execution_count": 109,
     "metadata": {},
     "output_type": "execute_result"
    }
   ],
   "source": [
    "X_svd[0,:]"
   ]
  },
  {
   "cell_type": "code",
   "execution_count": 110,
   "metadata": {},
   "outputs": [
    {
     "data": {
      "text/plain": [
       "(5572, 30)"
      ]
     },
     "execution_count": 110,
     "metadata": {},
     "output_type": "execute_result"
    }
   ],
   "source": [
    "X_svd.shape"
   ]
  },
  {
   "cell_type": "code",
   "execution_count": 172,
   "metadata": {},
   "outputs": [
    {
     "name": "stdout",
     "output_type": "stream",
     "text": [
      "Classifier: RF (RandomForestClassifier)\n",
      "Accuracy with cv is: 97.25% +/- 0.77%\n",
      "AUC with cv = 97.35% +/- 0.99%\n",
      "Precision with cv = 95.12% +/- 1.88%\n",
      "Temps d'execution : 4.65700s\n",
      "\n",
      "Classifier: KNN (KNeighborsClassifier)\n",
      "Accuracy with cv is: 96.41% +/- 0.74%\n",
      "AUC with cv = 95.59% +/- 1.39%\n",
      "Precision with cv = 90.67% +/- 4.74%\n",
      "Temps d'execution : 1.67100s\n",
      "\n",
      "Classifier: NB (GaussianNB)\n",
      "Accuracy with cv is: 65.94% +/- 1.85%\n",
      "AUC with cv = 89.97% +/- 1.49%\n",
      "Precision with cv = 26.67% +/- 2.63%\n",
      "Temps d'execution : 0.07403s\n",
      "\n",
      "Classifier: CART (DecisionTreeClassifier)\n",
      "Accuracy with cv is: 95.33% +/- 1.19%\n",
      "AUC with cv = 90.02% +/- 2.82%\n",
      "Precision with cv = 82.73% +/- 4.99%\n",
      "Temps d'execution : 0.95797s\n",
      "\n",
      "Classifier: ID3 (DecisionTreeClassifier)\n",
      "Accuracy with cv is: 95.46% +/- 0.94%\n",
      "AUC with cv = 89.94% +/- 2.27%\n",
      "Precision with cv = 83.65% +/- 3.09%\n",
      "Temps d'execution : 0.99100s\n",
      "\n",
      "Classifier: stump (DecisionTreeClassifier)\n",
      "Accuracy with cv is: 87.69% +/- 0.89%\n",
      "AUC with cv = 81.20% +/- 2.17%\n",
      "Precision with cv = 37.98% +/- 24.97%\n",
      "Temps d'execution : 0.14600s\n",
      "\n",
      "Classifier: MLPC (MLPClassifier)\n",
      "Accuracy with cv is: 97.13% +/- 0.57%\n",
      "AUC with cv = 98.17% +/- 0.64%\n",
      "Precision with cv = 90.52% +/- 3.55%\n",
      "Temps d'execution : 29.33400s\n",
      "\n",
      "Classifier: bagging (BaggingClassifier)\n",
      "Accuracy with cv is: 97.22% +/- 0.80%\n",
      "AUC with cv = 97.11% +/- 0.97%\n",
      "Precision with cv = 94.00% +/- 2.01%\n",
      "Temps d'execution : 28.45300s\n",
      "\n",
      "Classifier: adaboost (AdaBoostClassifier)\n",
      "Accuracy with cv is: 96.23% +/- 0.80%\n",
      "AUC with cv = 97.32% +/- 1.07%\n",
      "Precision with cv = 87.78% +/- 3.29%\n",
      "Temps d'execution : 6.47900s\n",
      "\n",
      "Classifier: RF2 (RandomForestClassifier)\n",
      "Accuracy with cv is: 96.98% +/- 0.79%\n",
      "AUC with cv = 96.51% +/- 1.03%\n",
      "Precision with cv = 94.57% +/- 2.04%\n",
      "Temps d'execution : 1.16600s\n",
      "\n"
     ]
    }
   ],
   "source": [
    "run_classifiers(clfs,X_svd,Y)"
   ]
  },
  {
   "cell_type": "markdown",
   "metadata": {},
   "source": [
    "Globalement, en utilisant SVD pour régler les problèmes de Polysémie et de Synonymie, les résultats dans tous les algorithmes deviennent homogènes autour des 97% d'accuracy. Le meilleur algorithme devient le bagging, mais les Random Forest et le MLPC sont toujours très bons même si ils perdent un peu en accuracy."
   ]
  },
  {
   "cell_type": "code",
   "execution_count": 120,
   "metadata": {},
   "outputs": [],
   "source": [
    "pipeword=Pipeline([(\"cv\",CountVectorizer(max_features=300,stop_words='english')),(\"tfidf\",TfidfTransformer()),\\\n",
    "                   (\"svd\",TruncatedSVD(n_components=20))])"
   ]
  },
  {
   "cell_type": "markdown",
   "metadata": {},
   "source": [
    "# Données yelp"
   ]
  },
  {
   "cell_type": "code",
   "execution_count": 165,
   "metadata": {},
   "outputs": [],
   "source": [
    "yelp=pd.read_csv(\"yelp-text-by-stars.csv\",sep=\";\",header=0,encoding=\"ANSI\")"
   ]
  },
  {
   "cell_type": "code",
   "execution_count": 130,
   "metadata": {},
   "outputs": [
    {
     "data": {
      "text/html": [
       "<div>\n",
       "<style scoped>\n",
       "    .dataframe tbody tr th:only-of-type {\n",
       "        vertical-align: middle;\n",
       "    }\n",
       "\n",
       "    .dataframe tbody tr th {\n",
       "        vertical-align: top;\n",
       "    }\n",
       "\n",
       "    .dataframe thead th {\n",
       "        text-align: right;\n",
       "    }\n",
       "</style>\n",
       "<table border=\"1\" class=\"dataframe\">\n",
       "  <thead>\n",
       "    <tr style=\"text-align: right;\">\n",
       "      <th></th>\n",
       "      <th>Stars</th>\n",
       "      <th>Text</th>\n",
       "    </tr>\n",
       "  </thead>\n",
       "  <tbody>\n",
       "    <tr>\n",
       "      <th>0</th>\n",
       "      <td>1</td>\n",
       "      <td>Boarded my English Mastiff here over New Year'...</td>\n",
       "    </tr>\n",
       "    <tr>\n",
       "      <th>1</th>\n",
       "      <td>1</td>\n",
       "      <td>Another case of the Emperor's New Clothes.  So...</td>\n",
       "    </tr>\n",
       "    <tr>\n",
       "      <th>2</th>\n",
       "      <td>1</td>\n",
       "      <td>Came on Valentine's Day night having pre-bough...</td>\n",
       "    </tr>\n",
       "    <tr>\n",
       "      <th>3</th>\n",
       "      <td>1</td>\n",
       "      <td>2Nd time eating here today.1st time was great ...</td>\n",
       "    </tr>\n",
       "    <tr>\n",
       "      <th>4</th>\n",
       "      <td>1</td>\n",
       "      <td>Allegiant is a disaster.  Their fares are chea...</td>\n",
       "    </tr>\n",
       "  </tbody>\n",
       "</table>\n",
       "</div>"
      ],
      "text/plain": [
       "   Stars                                               Text\n",
       "0      1  Boarded my English Mastiff here over New Year'...\n",
       "1      1  Another case of the Emperor's New Clothes.  So...\n",
       "2      1  Came on Valentine's Day night having pre-bough...\n",
       "3      1  2Nd time eating here today.1st time was great ...\n",
       "4      1  Allegiant is a disaster.  Their fares are chea..."
      ]
     },
     "execution_count": 130,
     "metadata": {},
     "output_type": "execute_result"
    }
   ],
   "source": [
    "yelp.head()"
   ]
  },
  {
   "cell_type": "code",
   "execution_count": 166,
   "metadata": {},
   "outputs": [],
   "source": [
    "corpusyelp=yelp.iloc[:,1].values\n",
    "Yyelp=yelp.iloc[:,0].values"
   ]
  },
  {
   "cell_type": "code",
   "execution_count": 167,
   "metadata": {},
   "outputs": [],
   "source": [
    "Yyelp=Yyelp.astype(int)\n",
    "Yyelp[Yyelp<4]=0\n",
    "Yyelp[Yyelp>=4]=1"
   ]
  },
  {
   "cell_type": "code",
   "execution_count": 177,
   "metadata": {},
   "outputs": [
    {
     "name": "stdout",
     "output_type": "stream",
     "text": [
      "Mauvaises notes : 34.05%, Bonnes notes : 65.95%\n"
     ]
    }
   ],
   "source": [
    "nbbon=np.sum(Yyelp==1)*100/len(Yyelp)\n",
    "nbmauvais=np.sum(Yyelp==0)*100/len(Yyelp)\n",
    "\n",
    "print(\"Mauvaises notes : {0:.2f}%, Bonnes notes : {1:.2f}%\".format(nbmauvais,nbbon))"
   ]
  },
  {
   "cell_type": "code",
   "execution_count": 168,
   "metadata": {},
   "outputs": [],
   "source": [
    "test=pipeword.fit_transform(corpusyelp,Yyelp)"
   ]
  },
  {
   "cell_type": "code",
   "execution_count": 171,
   "metadata": {},
   "outputs": [
    {
     "name": "stdout",
     "output_type": "stream",
     "text": [
      "Classifier: RF (RandomForestClassifier)\n",
      "Accuracy with cv is: 78.13% +/- 0.61%\n",
      "AUC with cv = 84.37% +/- 0.53%\n",
      "Precision with cv = 80.36% +/- 0.70%\n",
      "Temps d'execution : 67.25662s\n",
      "\n",
      "Classifier: KNN (KNeighborsClassifier)\n",
      "Accuracy with cv is: 74.58% +/- 0.52%\n",
      "AUC with cv = 78.93% +/- 0.64%\n",
      "Precision with cv = 80.33% +/- 0.67%\n",
      "Temps d'execution : 118.38799s\n",
      "\n",
      "Classifier: NB (GaussianNB)\n",
      "Accuracy with cv is: 73.63% +/- 0.60%\n",
      "AUC with cv = 79.00% +/- 0.72%\n",
      "Precision with cv = 81.19% +/- 0.41%\n",
      "Temps d'execution : 0.26597s\n",
      "\n",
      "Classifier: CART (DecisionTreeClassifier)\n",
      "Accuracy with cv is: 70.09% +/- 0.67%\n",
      "AUC with cv = 66.90% +/- 0.85%\n",
      "Precision with cv = 77.42% +/- 0.72%\n",
      "Temps d'execution : 9.91403s\n",
      "\n",
      "Classifier: ID3 (DecisionTreeClassifier)\n",
      "Accuracy with cv is: 70.68% +/- 0.66%\n",
      "AUC with cv = 67.59% +/- 0.66%\n",
      "Precision with cv = 77.90% +/- 0.70%\n",
      "Temps d'execution : 14.72398s\n",
      "\n",
      "Classifier: stump (DecisionTreeClassifier)\n",
      "Accuracy with cv is: 65.95% +/- 0.53%\n",
      "AUC with cv = 61.68% +/- 0.63%\n",
      "Precision with cv = 65.95% +/- 0.53%\n",
      "Temps d'execution : 0.97003s\n",
      "\n",
      "Classifier: MLPC (MLPClassifier)\n",
      "Accuracy with cv is: 79.70% +/- 0.46%\n",
      "AUC with cv = 86.58% +/- 0.34%\n",
      "Precision with cv = 82.23% +/- 0.71%\n",
      "Temps d'execution : 265.32455s\n",
      "\n",
      "Classifier: bagging (BaggingClassifier)\n",
      "Accuracy with cv is: 78.08% +/- 0.50%\n",
      "AUC with cv = 83.95% +/- 0.50%\n",
      "Precision with cv = 81.03% +/- 0.61%\n",
      "Temps d'execution : 316.65253s\n",
      "\n",
      "Classifier: adaboost (AdaBoostClassifier)\n",
      "Accuracy with cv is: 77.35% +/- 0.49%\n",
      "AUC with cv = 83.73% +/- 0.57%\n",
      "Precision with cv = 80.67% +/- 0.47%\n",
      "Temps d'execution : 53.08171s\n",
      "\n",
      "Classifier: RF2 (RandomForestClassifier)\n",
      "Accuracy with cv is: 76.24% +/- 0.60%\n",
      "AUC with cv = 81.56% +/- 0.70%\n",
      "Precision with cv = 80.98% +/- 0.59%\n",
      "Temps d'execution : 17.15703s\n",
      "\n"
     ]
    }
   ],
   "source": [
    "run_classifiers(clfs,test,Yyelp)"
   ]
  },
  {
   "cell_type": "markdown",
   "metadata": {},
   "source": [
    "Les algorithmes prennent beaucoup plus de temps ici. Les meilleurs résultats sont encore obtenus avec les Random Forest, et avec le MLPClassifier. L'accuracy ne dépasse pas les 80%."
   ]
  }
 ],
 "metadata": {
  "kernelspec": {
   "display_name": "Python 3",
   "language": "python",
   "name": "python3"
  },
  "language_info": {
   "codemirror_mode": {
    "name": "ipython",
    "version": 3
   },
   "file_extension": ".py",
   "mimetype": "text/x-python",
   "name": "python",
   "nbconvert_exporter": "python",
   "pygments_lexer": "ipython3",
   "version": "3.7.6"
  }
 },
 "nbformat": 4,
 "nbformat_minor": 4
}
